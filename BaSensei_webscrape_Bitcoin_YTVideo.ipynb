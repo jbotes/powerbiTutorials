{
 "cells": [
  {
   "cell_type": "code",
   "execution_count": 1,
   "metadata": {
    "collapsed": true,
    "ExecuteTime": {
     "end_time": "2023-08-13T11:42:32.862157700Z",
     "start_time": "2023-08-13T11:42:31.597143300Z"
    }
   },
   "outputs": [],
   "source": [
    "from bs4 import BeautifulSoup\n",
    "import pandas as pd\n",
    "import requests\n",
    "import csv\n",
    "#from pyspark.sql import dataframe\n",
    "from datetime import datetime"
   ]
  },
  {
   "cell_type": "code",
   "execution_count": 2,
   "outputs": [],
   "source": [
    "headers = {\"User-Agent\":\"Mozilla/5.0 (Windows NT 10.0; Win64; x64; rv:66.0) Gecko/20100101 Firefox/66.0\", \"Accept-Encoding\":\"gzip, deflate\", \"Accept\":\"text/html,application/xhtml+xml,application/xml;q=0.9,*/*;q=0.8\", \"DNT\":\"1\",\"Connection\":\"close\", \"Upgrade-Insecure-Requests\":\"1\"}"
   ],
   "metadata": {
    "collapsed": false,
    "ExecuteTime": {
     "end_time": "2023-08-13T11:42:48.740041700Z",
     "start_time": "2023-08-13T11:42:48.728055600Z"
    }
   }
  },
  {
   "cell_type": "code",
   "execution_count": 3,
   "outputs": [],
   "source": [
    "url = 'https://bitinfocharts.com/top-100-richest-bitcoin-addresses.html'\n",
    "response = requests.get(url,headers=headers).text\n",
    "soup = BeautifulSoup(response, \"html.parser\")"
   ],
   "metadata": {
    "collapsed": false,
    "ExecuteTime": {
     "end_time": "2023-08-13T11:43:14.690684900Z",
     "start_time": "2023-08-13T11:43:13.906464400Z"
    }
   }
  },
  {
   "cell_type": "markdown",
   "source": [
    "# Paste ChaptGPT Code"
   ],
   "metadata": {
    "collapsed": false
   }
  },
  {
   "cell_type": "code",
   "execution_count": 5,
   "outputs": [],
   "source": [
    "# Find the table with the specified attributes\n",
    "table = soup.find('table', {'class': 'table table-condensed bb', 'style': 'max-width:1000px;text-align:center;width: inherit;margin-bottom: 0;'})\n"
   ],
   "metadata": {
    "collapsed": false,
    "ExecuteTime": {
     "end_time": "2023-08-13T11:43:53.567113Z",
     "start_time": "2023-08-13T11:43:53.552132Z"
    }
   }
  },
  {
   "cell_type": "code",
   "execution_count": 6,
   "outputs": [],
   "source": [
    "# Extract the headers\n",
    "headers = [th.text for th in table.find('thead').find_all('th')]"
   ],
   "metadata": {
    "collapsed": false,
    "ExecuteTime": {
     "end_time": "2023-08-13T11:43:59.555082500Z",
     "start_time": "2023-08-13T11:43:59.546076Z"
    }
   }
  },
  {
   "cell_type": "code",
   "execution_count": 7,
   "outputs": [],
   "source": [
    "# Extract the rows\n",
    "rows = []\n",
    "for tr in table.find('tbody').find_all('tr'):\n",
    "    rows.append([td.text.strip() for td in tr.find_all('td')])"
   ],
   "metadata": {
    "collapsed": false,
    "ExecuteTime": {
     "end_time": "2023-08-13T11:44:05.380681100Z",
     "start_time": "2023-08-13T11:44:05.371079600Z"
    }
   }
  },
  {
   "cell_type": "code",
   "execution_count": 8,
   "outputs": [],
   "source": [
    "# Create a DataFrame\n",
    "df = pd.DataFrame(rows, columns=headers)"
   ],
   "metadata": {
    "collapsed": false,
    "ExecuteTime": {
     "end_time": "2023-08-13T11:44:16.715243300Z",
     "start_time": "2023-08-13T11:44:16.697255800Z"
    }
   }
  },
  {
   "cell_type": "code",
   "execution_count": 9,
   "outputs": [],
   "source": [
    "# Add the current date and time column\n",
    "df['Date and Time'] = pd.Timestamp.now().strftime('%d/%m/%Y %H:%M')"
   ],
   "metadata": {
    "collapsed": false,
    "ExecuteTime": {
     "end_time": "2023-08-13T11:44:22.655041400Z",
     "start_time": "2023-08-13T11:44:22.643056Z"
    }
   }
  },
  {
   "cell_type": "code",
   "execution_count": 10,
   "outputs": [
    {
     "data": {
      "text/plain": "         Balance, BTC Addresses % Addresses (Total)        Coins  \\\n0       (0 - 0.00001)   3648493        7.48% (100%)    18.62 BTC   \n1  [0.00001 - 0.0001)   9578291     19.64% (92.52%)   411.72 BTC   \n2    [0.0001 - 0.001)  12084944     24.78% (72.88%)    4,694 BTC   \n3      [0.001 - 0.01)  11236056      23.04% (48.1%)   41,775 BTC   \n4        [0.01 - 0.1)   7784483     15.96% (25.06%)  261,374 BTC   \n\n              USD % Coins (Total)     Date and Time  \n0        $547,352       0% (100%)  13/08/2023 13:44  \n1     $12,104,875       0% (100%)  13/08/2023 13:44  \n2    $138,013,773    0.02% (100%)  13/08/2023 13:44  \n3  $1,228,237,337  0.21% (99.97%)  13/08/2023 13:44  \n4  $7,684,675,479  1.34% (99.76%)  13/08/2023 13:44  ",
      "text/html": "<div>\n<style scoped>\n    .dataframe tbody tr th:only-of-type {\n        vertical-align: middle;\n    }\n\n    .dataframe tbody tr th {\n        vertical-align: top;\n    }\n\n    .dataframe thead th {\n        text-align: right;\n    }\n</style>\n<table border=\"1\" class=\"dataframe\">\n  <thead>\n    <tr style=\"text-align: right;\">\n      <th></th>\n      <th>Balance, BTC</th>\n      <th>Addresses</th>\n      <th>% Addresses (Total)</th>\n      <th>Coins</th>\n      <th>USD</th>\n      <th>% Coins (Total)</th>\n      <th>Date and Time</th>\n    </tr>\n  </thead>\n  <tbody>\n    <tr>\n      <th>0</th>\n      <td>(0 - 0.00001)</td>\n      <td>3648493</td>\n      <td>7.48% (100%)</td>\n      <td>18.62 BTC</td>\n      <td>$547,352</td>\n      <td>0% (100%)</td>\n      <td>13/08/2023 13:44</td>\n    </tr>\n    <tr>\n      <th>1</th>\n      <td>[0.00001 - 0.0001)</td>\n      <td>9578291</td>\n      <td>19.64% (92.52%)</td>\n      <td>411.72 BTC</td>\n      <td>$12,104,875</td>\n      <td>0% (100%)</td>\n      <td>13/08/2023 13:44</td>\n    </tr>\n    <tr>\n      <th>2</th>\n      <td>[0.0001 - 0.001)</td>\n      <td>12084944</td>\n      <td>24.78% (72.88%)</td>\n      <td>4,694 BTC</td>\n      <td>$138,013,773</td>\n      <td>0.02% (100%)</td>\n      <td>13/08/2023 13:44</td>\n    </tr>\n    <tr>\n      <th>3</th>\n      <td>[0.001 - 0.01)</td>\n      <td>11236056</td>\n      <td>23.04% (48.1%)</td>\n      <td>41,775 BTC</td>\n      <td>$1,228,237,337</td>\n      <td>0.21% (99.97%)</td>\n      <td>13/08/2023 13:44</td>\n    </tr>\n    <tr>\n      <th>4</th>\n      <td>[0.01 - 0.1)</td>\n      <td>7784483</td>\n      <td>15.96% (25.06%)</td>\n      <td>261,374 BTC</td>\n      <td>$7,684,675,479</td>\n      <td>1.34% (99.76%)</td>\n      <td>13/08/2023 13:44</td>\n    </tr>\n  </tbody>\n</table>\n</div>"
     },
     "execution_count": 10,
     "metadata": {},
     "output_type": "execute_result"
    }
   ],
   "source": [
    "# Display the first few rows of the DataFrame\n",
    "df.head()"
   ],
   "metadata": {
    "collapsed": false,
    "ExecuteTime": {
     "end_time": "2023-08-13T11:44:27.161515300Z",
     "start_time": "2023-08-13T11:44:27.146054300Z"
    }
   }
  },
  {
   "cell_type": "code",
   "execution_count": 11,
   "outputs": [
    {
     "data": {
      "text/plain": "         Balance, BTC Addresses  % Addresses (Total)        Coins  \\\n0       (0 - 0.00001)   3648493               0.0748    18.62 BTC   \n1  [0.00001 - 0.0001)   9578291               0.1964   411.72 BTC   \n2    [0.0001 - 0.001)  12084944               0.2478    4,694 BTC   \n3      [0.001 - 0.01)  11236056               0.2304   41,775 BTC   \n4        [0.01 - 0.1)   7784483               0.1596  261,374 BTC   \n\n              USD % Coins (Total)     Date and Time  \n0        $547,352       0% (100%)  13/08/2023 13:44  \n1     $12,104,875       0% (100%)  13/08/2023 13:44  \n2    $138,013,773    0.02% (100%)  13/08/2023 13:44  \n3  $1,228,237,337  0.21% (99.97%)  13/08/2023 13:44  \n4  $7,684,675,479  1.34% (99.76%)  13/08/2023 13:44  ",
      "text/html": "<div>\n<style scoped>\n    .dataframe tbody tr th:only-of-type {\n        vertical-align: middle;\n    }\n\n    .dataframe tbody tr th {\n        vertical-align: top;\n    }\n\n    .dataframe thead th {\n        text-align: right;\n    }\n</style>\n<table border=\"1\" class=\"dataframe\">\n  <thead>\n    <tr style=\"text-align: right;\">\n      <th></th>\n      <th>Balance, BTC</th>\n      <th>Addresses</th>\n      <th>% Addresses (Total)</th>\n      <th>Coins</th>\n      <th>USD</th>\n      <th>% Coins (Total)</th>\n      <th>Date and Time</th>\n    </tr>\n  </thead>\n  <tbody>\n    <tr>\n      <th>0</th>\n      <td>(0 - 0.00001)</td>\n      <td>3648493</td>\n      <td>0.0748</td>\n      <td>18.62 BTC</td>\n      <td>$547,352</td>\n      <td>0% (100%)</td>\n      <td>13/08/2023 13:44</td>\n    </tr>\n    <tr>\n      <th>1</th>\n      <td>[0.00001 - 0.0001)</td>\n      <td>9578291</td>\n      <td>0.1964</td>\n      <td>411.72 BTC</td>\n      <td>$12,104,875</td>\n      <td>0% (100%)</td>\n      <td>13/08/2023 13:44</td>\n    </tr>\n    <tr>\n      <th>2</th>\n      <td>[0.0001 - 0.001)</td>\n      <td>12084944</td>\n      <td>0.2478</td>\n      <td>4,694 BTC</td>\n      <td>$138,013,773</td>\n      <td>0.02% (100%)</td>\n      <td>13/08/2023 13:44</td>\n    </tr>\n    <tr>\n      <th>3</th>\n      <td>[0.001 - 0.01)</td>\n      <td>11236056</td>\n      <td>0.2304</td>\n      <td>41,775 BTC</td>\n      <td>$1,228,237,337</td>\n      <td>0.21% (99.97%)</td>\n      <td>13/08/2023 13:44</td>\n    </tr>\n    <tr>\n      <th>4</th>\n      <td>[0.01 - 0.1)</td>\n      <td>7784483</td>\n      <td>0.1596</td>\n      <td>261,374 BTC</td>\n      <td>$7,684,675,479</td>\n      <td>1.34% (99.76%)</td>\n      <td>13/08/2023 13:44</td>\n    </tr>\n  </tbody>\n</table>\n</div>"
     },
     "execution_count": 11,
     "metadata": {},
     "output_type": "execute_result"
    }
   ],
   "source": [
    "# Split the \"% Addresses (Total)\" column by the \"(\" delimiter and keep only the first part\n",
    "df['% Addresses (Total)'] = df['% Addresses (Total)'].apply(lambda x: x.split('(')[0].strip())\n",
    "\n",
    "# Convert the values to percentage\n",
    "df['% Addresses (Total)'] = df['% Addresses (Total)'].str.rstrip('%').astype('float') / 100\n",
    "\n",
    "# Display the updated DataFrame\n",
    "df.head()"
   ],
   "metadata": {
    "collapsed": false,
    "ExecuteTime": {
     "end_time": "2023-08-13T11:45:06.909086800Z",
     "start_time": "2023-08-13T11:45:06.898549400Z"
    }
   }
  },
  {
   "cell_type": "code",
   "execution_count": 12,
   "outputs": [
    {
     "data": {
      "text/plain": "         Balance, BTC Addresses  % Addresses (Total)      Coins  \\\n0       (0 - 0.00001)   3648493               0.0748      18.62   \n1  [0.00001 - 0.0001)   9578291               0.1964     411.72   \n2    [0.0001 - 0.001)  12084944               0.2478    4694.00   \n3      [0.001 - 0.01)  11236056               0.2304   41775.00   \n4        [0.01 - 0.1)   7784483               0.1596  261374.00   \n\n              USD % Coins (Total)     Date and Time  \n0        $547,352       0% (100%)  13/08/2023 13:44  \n1     $12,104,875       0% (100%)  13/08/2023 13:44  \n2    $138,013,773    0.02% (100%)  13/08/2023 13:44  \n3  $1,228,237,337  0.21% (99.97%)  13/08/2023 13:44  \n4  $7,684,675,479  1.34% (99.76%)  13/08/2023 13:44  ",
      "text/html": "<div>\n<style scoped>\n    .dataframe tbody tr th:only-of-type {\n        vertical-align: middle;\n    }\n\n    .dataframe tbody tr th {\n        vertical-align: top;\n    }\n\n    .dataframe thead th {\n        text-align: right;\n    }\n</style>\n<table border=\"1\" class=\"dataframe\">\n  <thead>\n    <tr style=\"text-align: right;\">\n      <th></th>\n      <th>Balance, BTC</th>\n      <th>Addresses</th>\n      <th>% Addresses (Total)</th>\n      <th>Coins</th>\n      <th>USD</th>\n      <th>% Coins (Total)</th>\n      <th>Date and Time</th>\n    </tr>\n  </thead>\n  <tbody>\n    <tr>\n      <th>0</th>\n      <td>(0 - 0.00001)</td>\n      <td>3648493</td>\n      <td>0.0748</td>\n      <td>18.62</td>\n      <td>$547,352</td>\n      <td>0% (100%)</td>\n      <td>13/08/2023 13:44</td>\n    </tr>\n    <tr>\n      <th>1</th>\n      <td>[0.00001 - 0.0001)</td>\n      <td>9578291</td>\n      <td>0.1964</td>\n      <td>411.72</td>\n      <td>$12,104,875</td>\n      <td>0% (100%)</td>\n      <td>13/08/2023 13:44</td>\n    </tr>\n    <tr>\n      <th>2</th>\n      <td>[0.0001 - 0.001)</td>\n      <td>12084944</td>\n      <td>0.2478</td>\n      <td>4694.00</td>\n      <td>$138,013,773</td>\n      <td>0.02% (100%)</td>\n      <td>13/08/2023 13:44</td>\n    </tr>\n    <tr>\n      <th>3</th>\n      <td>[0.001 - 0.01)</td>\n      <td>11236056</td>\n      <td>0.2304</td>\n      <td>41775.00</td>\n      <td>$1,228,237,337</td>\n      <td>0.21% (99.97%)</td>\n      <td>13/08/2023 13:44</td>\n    </tr>\n    <tr>\n      <th>4</th>\n      <td>[0.01 - 0.1)</td>\n      <td>7784483</td>\n      <td>0.1596</td>\n      <td>261374.00</td>\n      <td>$7,684,675,479</td>\n      <td>1.34% (99.76%)</td>\n      <td>13/08/2023 13:44</td>\n    </tr>\n  </tbody>\n</table>\n</div>"
     },
     "execution_count": 12,
     "metadata": {},
     "output_type": "execute_result"
    }
   ],
   "source": [
    "# Remove the \"BTC\" string and commas from the \"Coins\" column, then convert to decimal data type\n",
    "df['Coins'] = df['Coins'].replace('[BTC,]', '', regex=True).astype(float)\n",
    "\n",
    "# Round the values to 2 decimal places\n",
    "df['Coins'] = df['Coins'].round(2)\n",
    "\n",
    "# Display the updated DataFrame\n",
    "df.head()"
   ],
   "metadata": {
    "collapsed": false,
    "ExecuteTime": {
     "end_time": "2023-08-13T11:45:30.138855800Z",
     "start_time": "2023-08-13T11:45:30.114909900Z"
    }
   }
  },
  {
   "cell_type": "code",
   "execution_count": 13,
   "outputs": [
    {
     "data": {
      "text/plain": "         Balance, BTC Addresses  % Addresses (Total)      Coins  \\\n0       (0 - 0.00001)   3648493               0.0748      18.62   \n1  [0.00001 - 0.0001)   9578291               0.1964     411.72   \n2    [0.0001 - 0.001)  12084944               0.2478    4694.00   \n3      [0.001 - 0.01)  11236056               0.2304   41775.00   \n4        [0.01 - 0.1)   7784483               0.1596  261374.00   \n\n              USD  % Coins (Total)     Date and Time  \n0        $547,352           0.0000  13/08/2023 13:44  \n1     $12,104,875           0.0000  13/08/2023 13:44  \n2    $138,013,773           0.0002  13/08/2023 13:44  \n3  $1,228,237,337           0.0021  13/08/2023 13:44  \n4  $7,684,675,479           0.0134  13/08/2023 13:44  ",
      "text/html": "<div>\n<style scoped>\n    .dataframe tbody tr th:only-of-type {\n        vertical-align: middle;\n    }\n\n    .dataframe tbody tr th {\n        vertical-align: top;\n    }\n\n    .dataframe thead th {\n        text-align: right;\n    }\n</style>\n<table border=\"1\" class=\"dataframe\">\n  <thead>\n    <tr style=\"text-align: right;\">\n      <th></th>\n      <th>Balance, BTC</th>\n      <th>Addresses</th>\n      <th>% Addresses (Total)</th>\n      <th>Coins</th>\n      <th>USD</th>\n      <th>% Coins (Total)</th>\n      <th>Date and Time</th>\n    </tr>\n  </thead>\n  <tbody>\n    <tr>\n      <th>0</th>\n      <td>(0 - 0.00001)</td>\n      <td>3648493</td>\n      <td>0.0748</td>\n      <td>18.62</td>\n      <td>$547,352</td>\n      <td>0.0000</td>\n      <td>13/08/2023 13:44</td>\n    </tr>\n    <tr>\n      <th>1</th>\n      <td>[0.00001 - 0.0001)</td>\n      <td>9578291</td>\n      <td>0.1964</td>\n      <td>411.72</td>\n      <td>$12,104,875</td>\n      <td>0.0000</td>\n      <td>13/08/2023 13:44</td>\n    </tr>\n    <tr>\n      <th>2</th>\n      <td>[0.0001 - 0.001)</td>\n      <td>12084944</td>\n      <td>0.2478</td>\n      <td>4694.00</td>\n      <td>$138,013,773</td>\n      <td>0.0002</td>\n      <td>13/08/2023 13:44</td>\n    </tr>\n    <tr>\n      <th>3</th>\n      <td>[0.001 - 0.01)</td>\n      <td>11236056</td>\n      <td>0.2304</td>\n      <td>41775.00</td>\n      <td>$1,228,237,337</td>\n      <td>0.0021</td>\n      <td>13/08/2023 13:44</td>\n    </tr>\n    <tr>\n      <th>4</th>\n      <td>[0.01 - 0.1)</td>\n      <td>7784483</td>\n      <td>0.1596</td>\n      <td>261374.00</td>\n      <td>$7,684,675,479</td>\n      <td>0.0134</td>\n      <td>13/08/2023 13:44</td>\n    </tr>\n  </tbody>\n</table>\n</div>"
     },
     "execution_count": 13,
     "metadata": {},
     "output_type": "execute_result"
    }
   ],
   "source": [
    "# Split the \"% Coins (Total)\" column by the \"(\" delimiter and keep only the first part\n",
    "df['% Coins (Total)'] = df['% Coins (Total)'].apply(lambda x: x.split('(')[0].strip())\n",
    "\n",
    "# Convert the values to percentage\n",
    "df['% Coins (Total)'] = df['% Coins (Total)'].str.rstrip('%').astype('float') / 100\n",
    "\n",
    "# Display the updated DataFrame\n",
    "df.head()"
   ],
   "metadata": {
    "collapsed": false,
    "ExecuteTime": {
     "end_time": "2023-08-13T11:45:55.422054800Z",
     "start_time": "2023-08-13T11:45:55.402557200Z"
    }
   }
  },
  {
   "cell_type": "code",
   "execution_count": 15,
   "outputs": [],
   "source": [
    "# Define the path for the CSV file\n",
    "csv_file_path = \"bitcoin_wealth_distribution.csv\"\n",
    "\n",
    "# Save the DataFrame to a CSV file\n",
    "df.to_csv(csv_file_path, index=False)"
   ],
   "metadata": {
    "collapsed": false,
    "ExecuteTime": {
     "end_time": "2023-08-13T11:46:27.361153Z",
     "start_time": "2023-08-13T11:46:27.342234700Z"
    }
   }
  },
  {
   "cell_type": "code",
   "execution_count": null,
   "outputs": [],
   "source": [],
   "metadata": {
    "collapsed": false
   }
  }
 ],
 "metadata": {
  "kernelspec": {
   "display_name": "Python 3",
   "language": "python",
   "name": "python3"
  },
  "language_info": {
   "codemirror_mode": {
    "name": "ipython",
    "version": 2
   },
   "file_extension": ".py",
   "mimetype": "text/x-python",
   "name": "python",
   "nbconvert_exporter": "python",
   "pygments_lexer": "ipython2",
   "version": "2.7.6"
  }
 },
 "nbformat": 4,
 "nbformat_minor": 0
}
