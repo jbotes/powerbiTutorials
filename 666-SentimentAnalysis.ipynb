{
 "cells": [
  {
   "cell_type": "code",
   "execution_count": null,
   "id": "f6838dc7",
   "metadata": {},
   "outputs": [],
   "source": [
    "import openai\n",
    "import pandas as pd\n",
    "import re\n",
    "\n",
    "# Set your OpenAI API key\n",
    "openai.api_key = \"tG0doyJx_lA3EhbSOUkENn3V5R1qn4Q06CKvYL-oA\"  # Replace with your actual key\n",
    "\n",
    "\n",
    "def rate_call_sentiment_df(transcript, model=\"gpt-4\"):\n",
    "    prompt = (\n",
    "        \"You are a sentiment analysis expert.\\n\"\n",
    "        \"Given a customer support call transcript, rate the overall sentiment of the customer's experience on a scale from 1 to 10, where:\\n\"\n",
    "        \"- 1 = Extremely negative experience\\n\"\n",
    "        \"- 5 = Neutral or mixed experience\\n\"\n",
    "        \"- 10 = Extremely positive experience\\n\\n\"\n",
    "        \"Consider the customer’s tone, language, satisfaction, and resolution of the issue.\\n\"\n",
    "        \"After giving the score, briefly explain in 2–3 bullet points why you chose that score.\\n\\n\"\n",
    "        f\"Here is the transcript:\\n{transcript}\"\n",
    "    )\n",
    "\n",
    "    response = openai.chat.completions.create(\n",
    "        model=model,\n",
    "        messages=[\n",
    "            {\"role\": \"system\", \"content\": \"You are a helpful assistant for sentiment scoring.\"},\n",
    "            {\"role\": \"user\", \"content\": prompt}\n",
    "        ],\n",
    "        temperature=0.2\n",
    "    )\n",
    "\n",
    "    output = response.choices[0].message.content.strip()\n",
    "\n",
    "    # Extract score\n",
    "    score = None\n",
    "    for match in re.findall(r'\\b\\d+\\b', output):\n",
    "        num = int(match)\n",
    "        if 1 <= num <= 10:\n",
    "            score = num\n",
    "            break\n",
    "\n",
    "    # Clean explanation\n",
    "    explanation = output\n",
    "    if score is not None:\n",
    "        explanation = re.sub(rf\".*?\\b{score}\\b[.:]?\\s*\", \"\", output, count=1, flags=re.IGNORECASE | re.DOTALL).strip()\n",
    "\n",
    "    return score, explanation"
   ]
  },
  {
   "cell_type": "code",
   "execution_count": 3,
   "id": "333f869e",
   "metadata": {},
   "outputs": [
    {
     "data": {
      "text/plain": [
       "(4,\n",
       " '- The customer expressed frustration due to the delay in delivery and lack of proactive updates. They had to follow up twice before getting a response, which indicates a negative experience.\\n- The customer appreciated the product quality and mentioned that it matches the description on the website, which is a positive aspect.\\n- The customer is not entirely unhappy but suggests room for improvement, indicating a mixed but leaning towards negative experience.')"
      ]
     },
     "execution_count": 3,
     "metadata": {},
     "output_type": "execute_result"
    }
   ],
   "source": [
    "rate_call_sentiment_df('I wanted to share some thoughts on my recent order. While I did eventually receive the package, it arrived a few days later than expected. I appreciate that the product quality is good and matches the description on your website, but the delay and lack of proactive updates made the experience frustrating. I had to follow up twice before getting a response. I hope you can improve communication in the future. I’m not entirely unhappy, but the experience wasn’t as smooth as it could have been.')"
   ]
  }
 ],
 "metadata": {
  "kernelspec": {
   "display_name": "PythonMasterEnv",
   "language": "python",
   "name": "python3"
  },
  "language_info": {
   "codemirror_mode": {
    "name": "ipython",
    "version": 3
   },
   "file_extension": ".py",
   "mimetype": "text/x-python",
   "name": "python",
   "nbconvert_exporter": "python",
   "pygments_lexer": "ipython3",
   "version": "3.11.7"
  }
 },
 "nbformat": 4,
 "nbformat_minor": 5
}
