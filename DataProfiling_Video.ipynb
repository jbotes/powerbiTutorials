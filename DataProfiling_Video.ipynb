{
 "cells": [
  {
   "cell_type": "markdown",
   "source": [
    "# Import Libraries"
   ],
   "metadata": {
    "collapsed": false
   }
  },
  {
   "cell_type": "code",
   "execution_count": 11,
   "outputs": [],
   "source": [
    "import pandas as pd\n",
    "from pandas_profiling import ProfileReport"
   ],
   "metadata": {
    "collapsed": false,
    "ExecuteTime": {
     "end_time": "2023-08-06T16:36:26.140875800Z",
     "start_time": "2023-08-06T16:36:26.136780200Z"
    }
   }
  },
  {
   "cell_type": "code",
   "execution_count": 12,
   "outputs": [],
   "source": [
    "#Load the Data\n",
    "df = pd.read_csv('CleanderDataScience.csv')"
   ],
   "metadata": {
    "collapsed": false,
    "ExecuteTime": {
     "end_time": "2023-08-06T16:36:53.770667200Z",
     "start_time": "2023-08-06T16:36:53.667496Z"
    }
   }
  },
  {
   "cell_type": "code",
   "execution_count": 14,
   "outputs": [
    {
     "data": {
      "text/plain": "(3498, 8)"
     },
     "execution_count": 14,
     "metadata": {},
     "output_type": "execute_result"
    }
   ],
   "source": [
    "#check Shape\n",
    "df.shape"
   ],
   "metadata": {
    "collapsed": false,
    "ExecuteTime": {
     "end_time": "2023-08-06T16:37:04.764610200Z",
     "start_time": "2023-08-06T16:37:04.719711600Z"
    }
   }
  },
  {
   "cell_type": "code",
   "execution_count": 15,
   "outputs": [
    {
     "data": {
      "text/plain": "      Unnamed: 0       Job Title  \\\n1780        2004    Data Analyst   \n3028        3367    Data Analyst   \n1398        1584   Data Engineer   \n626          683  Data Scientist   \n1659        1872  Data Scientist   \n1138        1279  Data Scientist   \n1766        1989  Data Scientist   \n733          809    Data Analyst   \n327          354  Data Scientist   \n2154        2418  Data Scientist   \n\n                                        Job Description  \\\n1780  Purpose of Job\\nWe are currently seeking a tal...   \n3028  Business Intelligence AnalystLocation: Austin,...   \n1398  Job Title Senior Data Engineer Location Chandl...   \n626   As a Project Scientist, you may assist in prep...   \n1659  Site Name: USA - Pennsylvania - Upper Providen...   \n1138  Min Qualifications\\n\\nREQUIRED EDUCATION / EXP...   \n1766  LMI is a government consulting firm, dedicated...   \n733   Kelly Services is seeking a Provider Analytics...   \n327   In this role you will join the Aviana Data Sci...   \n2154  Description\\nScientist/Associate Scientist Can...   \n\n                                Company Name          Location  \\\n1780                                    USAA   San Antonio, TX   \n3028                          Iconma, L.L.C.        Austin, TX   \n1398                               ICST, LLC      Chandler, AZ   \n626                             Cedars-Sinai   Los Angeles, CA   \n1659                                     GSK  Collegeville, PA   \n1138  The University of Texas Medical Branch       Webster, TX   \n1766                                     LMI   San Antonio, TX   \n733                                    Kelly       Chicago, IL   \n327               Aviana Global Technologies          Brea, CA   \n2154                 Fate Therapeutics, Inc.     San Diego, CA   \n\n                              Industry  Est Min Salary  Est Max Salary  \n1780                Insurance Carriers           74000          140000  \n3028            Staffing & Outsourcing           73000          111000  \n1398            Staffing & Outsourcing           84000          101000  \n626   Health Care Services & Hospitals          136000          164000  \n1659         Biotech & Pharmaceuticals          143000          237000  \n1138  Health Care Services & Hospitals           73000          136000  \n1766                        Consulting           54000           92000  \n733             Staffing & Outsourcing           31000           56000  \n327                        IT Services          102000          164000  \n2154                        Accounting          112000          211000  ",
      "text/html": "<div>\n<style scoped>\n    .dataframe tbody tr th:only-of-type {\n        vertical-align: middle;\n    }\n\n    .dataframe tbody tr th {\n        vertical-align: top;\n    }\n\n    .dataframe thead th {\n        text-align: right;\n    }\n</style>\n<table border=\"1\" class=\"dataframe\">\n  <thead>\n    <tr style=\"text-align: right;\">\n      <th></th>\n      <th>Unnamed: 0</th>\n      <th>Job Title</th>\n      <th>Job Description</th>\n      <th>Company Name</th>\n      <th>Location</th>\n      <th>Industry</th>\n      <th>Est Min Salary</th>\n      <th>Est Max Salary</th>\n    </tr>\n  </thead>\n  <tbody>\n    <tr>\n      <th>1780</th>\n      <td>2004</td>\n      <td>Data Analyst</td>\n      <td>Purpose of Job\\nWe are currently seeking a tal...</td>\n      <td>USAA</td>\n      <td>San Antonio, TX</td>\n      <td>Insurance Carriers</td>\n      <td>74000</td>\n      <td>140000</td>\n    </tr>\n    <tr>\n      <th>3028</th>\n      <td>3367</td>\n      <td>Data Analyst</td>\n      <td>Business Intelligence AnalystLocation: Austin,...</td>\n      <td>Iconma, L.L.C.</td>\n      <td>Austin, TX</td>\n      <td>Staffing &amp; Outsourcing</td>\n      <td>73000</td>\n      <td>111000</td>\n    </tr>\n    <tr>\n      <th>1398</th>\n      <td>1584</td>\n      <td>Data Engineer</td>\n      <td>Job Title Senior Data Engineer Location Chandl...</td>\n      <td>ICST, LLC</td>\n      <td>Chandler, AZ</td>\n      <td>Staffing &amp; Outsourcing</td>\n      <td>84000</td>\n      <td>101000</td>\n    </tr>\n    <tr>\n      <th>626</th>\n      <td>683</td>\n      <td>Data Scientist</td>\n      <td>As a Project Scientist, you may assist in prep...</td>\n      <td>Cedars-Sinai</td>\n      <td>Los Angeles, CA</td>\n      <td>Health Care Services &amp; Hospitals</td>\n      <td>136000</td>\n      <td>164000</td>\n    </tr>\n    <tr>\n      <th>1659</th>\n      <td>1872</td>\n      <td>Data Scientist</td>\n      <td>Site Name: USA - Pennsylvania - Upper Providen...</td>\n      <td>GSK</td>\n      <td>Collegeville, PA</td>\n      <td>Biotech &amp; Pharmaceuticals</td>\n      <td>143000</td>\n      <td>237000</td>\n    </tr>\n    <tr>\n      <th>1138</th>\n      <td>1279</td>\n      <td>Data Scientist</td>\n      <td>Min Qualifications\\n\\nREQUIRED EDUCATION / EXP...</td>\n      <td>The University of Texas Medical Branch</td>\n      <td>Webster, TX</td>\n      <td>Health Care Services &amp; Hospitals</td>\n      <td>73000</td>\n      <td>136000</td>\n    </tr>\n    <tr>\n      <th>1766</th>\n      <td>1989</td>\n      <td>Data Scientist</td>\n      <td>LMI is a government consulting firm, dedicated...</td>\n      <td>LMI</td>\n      <td>San Antonio, TX</td>\n      <td>Consulting</td>\n      <td>54000</td>\n      <td>92000</td>\n    </tr>\n    <tr>\n      <th>733</th>\n      <td>809</td>\n      <td>Data Analyst</td>\n      <td>Kelly Services is seeking a Provider Analytics...</td>\n      <td>Kelly</td>\n      <td>Chicago, IL</td>\n      <td>Staffing &amp; Outsourcing</td>\n      <td>31000</td>\n      <td>56000</td>\n    </tr>\n    <tr>\n      <th>327</th>\n      <td>354</td>\n      <td>Data Scientist</td>\n      <td>In this role you will join the Aviana Data Sci...</td>\n      <td>Aviana Global Technologies</td>\n      <td>Brea, CA</td>\n      <td>IT Services</td>\n      <td>102000</td>\n      <td>164000</td>\n    </tr>\n    <tr>\n      <th>2154</th>\n      <td>2418</td>\n      <td>Data Scientist</td>\n      <td>Description\\nScientist/Associate Scientist Can...</td>\n      <td>Fate Therapeutics, Inc.</td>\n      <td>San Diego, CA</td>\n      <td>Accounting</td>\n      <td>112000</td>\n      <td>211000</td>\n    </tr>\n  </tbody>\n</table>\n</div>"
     },
     "execution_count": 15,
     "metadata": {},
     "output_type": "execute_result"
    }
   ],
   "source": [
    "#Check sample\n",
    "df.sample(10)"
   ],
   "metadata": {
    "collapsed": false,
    "ExecuteTime": {
     "end_time": "2023-08-06T16:37:14.114374300Z",
     "start_time": "2023-08-06T16:37:14.103861100Z"
    }
   }
  },
  {
   "cell_type": "code",
   "execution_count": 16,
   "outputs": [
    {
     "data": {
      "text/plain": "        Unnamed: 0  Est Min Salary  Est Max Salary\ncount  3498.000000     3498.000000     3498.000000\nmean   1955.409949    82785.591767   135068.610635\nstd    1129.056284    34270.898430    44593.302576\nmin       0.000000    12000.000000    56000.000000\n25%     970.250000    54000.000000    98000.000000\n50%    1970.500000    79000.000000   130000.000000\n75%    2933.750000   111000.000000   165750.000000\nmax    3908.000000   200000.000000   254000.000000",
      "text/html": "<div>\n<style scoped>\n    .dataframe tbody tr th:only-of-type {\n        vertical-align: middle;\n    }\n\n    .dataframe tbody tr th {\n        vertical-align: top;\n    }\n\n    .dataframe thead th {\n        text-align: right;\n    }\n</style>\n<table border=\"1\" class=\"dataframe\">\n  <thead>\n    <tr style=\"text-align: right;\">\n      <th></th>\n      <th>Unnamed: 0</th>\n      <th>Est Min Salary</th>\n      <th>Est Max Salary</th>\n    </tr>\n  </thead>\n  <tbody>\n    <tr>\n      <th>count</th>\n      <td>3498.000000</td>\n      <td>3498.000000</td>\n      <td>3498.000000</td>\n    </tr>\n    <tr>\n      <th>mean</th>\n      <td>1955.409949</td>\n      <td>82785.591767</td>\n      <td>135068.610635</td>\n    </tr>\n    <tr>\n      <th>std</th>\n      <td>1129.056284</td>\n      <td>34270.898430</td>\n      <td>44593.302576</td>\n    </tr>\n    <tr>\n      <th>min</th>\n      <td>0.000000</td>\n      <td>12000.000000</td>\n      <td>56000.000000</td>\n    </tr>\n    <tr>\n      <th>25%</th>\n      <td>970.250000</td>\n      <td>54000.000000</td>\n      <td>98000.000000</td>\n    </tr>\n    <tr>\n      <th>50%</th>\n      <td>1970.500000</td>\n      <td>79000.000000</td>\n      <td>130000.000000</td>\n    </tr>\n    <tr>\n      <th>75%</th>\n      <td>2933.750000</td>\n      <td>111000.000000</td>\n      <td>165750.000000</td>\n    </tr>\n    <tr>\n      <th>max</th>\n      <td>3908.000000</td>\n      <td>200000.000000</td>\n      <td>254000.000000</td>\n    </tr>\n  </tbody>\n</table>\n</div>"
     },
     "execution_count": 16,
     "metadata": {},
     "output_type": "execute_result"
    }
   ],
   "source": [
    "#check description\n",
    "df.describe()"
   ],
   "metadata": {
    "collapsed": false,
    "ExecuteTime": {
     "end_time": "2023-08-06T16:37:24.690856600Z",
     "start_time": "2023-08-06T16:37:24.664272600Z"
    }
   }
  },
  {
   "cell_type": "markdown",
   "source": [
    "# Run pandas Profiling"
   ],
   "metadata": {
    "collapsed": false
   }
  },
  {
   "cell_type": "code",
   "execution_count": 17,
   "outputs": [],
   "source": [
    "report = ProfileReport(df, title=\"Data Science Salaries Profile\")\n"
   ],
   "metadata": {
    "collapsed": false,
    "ExecuteTime": {
     "end_time": "2023-08-06T16:38:34.197617Z",
     "start_time": "2023-08-06T16:38:34.170074800Z"
    }
   }
  },
  {
   "cell_type": "code",
   "execution_count": 18,
   "outputs": [
    {
     "data": {
      "text/plain": "Summarize dataset:   0%|          | 0/5 [00:00<?, ?it/s]",
      "application/vnd.jupyter.widget-view+json": {
       "version_major": 2,
       "version_minor": 0,
       "model_id": "1e14d6fe3d53435f9768de8d58ae611b"
      }
     },
     "metadata": {},
     "output_type": "display_data"
    },
    {
     "data": {
      "text/plain": "Generate report structure:   0%|          | 0/1 [00:00<?, ?it/s]",
      "application/vnd.jupyter.widget-view+json": {
       "version_major": 2,
       "version_minor": 0,
       "model_id": "bbd5c3665a764903b63ad7a2531a9cc5"
      }
     },
     "metadata": {},
     "output_type": "display_data"
    },
    {
     "data": {
      "text/plain": "Render HTML:   0%|          | 0/1 [00:00<?, ?it/s]",
      "application/vnd.jupyter.widget-view+json": {
       "version_major": 2,
       "version_minor": 0,
       "model_id": "5ff884339ec84373bd4ba65e45d5b5bd"
      }
     },
     "metadata": {},
     "output_type": "display_data"
    },
    {
     "data": {
      "text/plain": "Export report to file:   0%|          | 0/1 [00:00<?, ?it/s]",
      "application/vnd.jupyter.widget-view+json": {
       "version_major": 2,
       "version_minor": 0,
       "model_id": "4b660ed747eb4752a5fa909d74487659"
      }
     },
     "metadata": {},
     "output_type": "display_data"
    }
   ],
   "source": [
    "report.to_file('DataScientist3.html')"
   ],
   "metadata": {
    "collapsed": false,
    "ExecuteTime": {
     "end_time": "2023-08-06T16:39:10.670023100Z",
     "start_time": "2023-08-06T16:39:05.629457400Z"
    }
   }
  },
  {
   "cell_type": "code",
   "execution_count": 19,
   "outputs": [],
   "source": [
    "df_dirty = pd.read_csv('DataScientist2.csv', na_values=-1)"
   ],
   "metadata": {
    "collapsed": false,
    "ExecuteTime": {
     "end_time": "2023-08-06T16:44:18.012346700Z",
     "start_time": "2023-08-06T16:44:17.889347Z"
    }
   }
  },
  {
   "cell_type": "code",
   "execution_count": 20,
   "outputs": [
    {
     "data": {
      "text/plain": "Summarize dataset:   0%|          | 0/5 [00:00<?, ?it/s]",
      "application/vnd.jupyter.widget-view+json": {
       "version_major": 2,
       "version_minor": 0,
       "model_id": "3cde2fbe575c4a5c821bd6df18915e73"
      }
     },
     "metadata": {},
     "output_type": "display_data"
    },
    {
     "data": {
      "text/plain": "Generate report structure:   0%|          | 0/1 [00:00<?, ?it/s]",
      "application/vnd.jupyter.widget-view+json": {
       "version_major": 2,
       "version_minor": 0,
       "model_id": "bad71b6b1bea44df9809f0ee0241d388"
      }
     },
     "metadata": {},
     "output_type": "display_data"
    },
    {
     "data": {
      "text/plain": "Render HTML:   0%|          | 0/1 [00:00<?, ?it/s]",
      "application/vnd.jupyter.widget-view+json": {
       "version_major": 2,
       "version_minor": 0,
       "model_id": "29d05002174b4eca999dd026db33a3d2"
      }
     },
     "metadata": {},
     "output_type": "display_data"
    },
    {
     "data": {
      "text/plain": "Export report to file:   0%|          | 0/1 [00:00<?, ?it/s]",
      "application/vnd.jupyter.widget-view+json": {
       "version_major": 2,
       "version_minor": 0,
       "model_id": "38c2d85cba37433c98fe8451db9f03a4"
      }
     },
     "metadata": {},
     "output_type": "display_data"
    }
   ],
   "source": [
    "report_dirty = ProfileReport(df_dirty, title=\"Dirty Profile\")\n",
    "report_dirty.to_file('DatascienceDirty.html')"
   ],
   "metadata": {
    "collapsed": false,
    "ExecuteTime": {
     "end_time": "2023-08-06T16:45:18.962900200Z",
     "start_time": "2023-08-06T16:45:11.540727800Z"
    }
   }
  },
  {
   "cell_type": "code",
   "execution_count": null,
   "outputs": [],
   "source": [],
   "metadata": {
    "collapsed": false
   }
  }
 ],
 "metadata": {
  "kernelspec": {
   "display_name": "Python 3",
   "language": "python",
   "name": "python3"
  },
  "language_info": {
   "codemirror_mode": {
    "name": "ipython",
    "version": 2
   },
   "file_extension": ".py",
   "mimetype": "text/x-python",
   "name": "python",
   "nbconvert_exporter": "python",
   "pygments_lexer": "ipython2",
   "version": "2.7.6"
  }
 },
 "nbformat": 4,
 "nbformat_minor": 0
}
