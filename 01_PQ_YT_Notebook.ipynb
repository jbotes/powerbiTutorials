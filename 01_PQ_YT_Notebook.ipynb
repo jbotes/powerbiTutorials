{
 "cells": [
  {
   "cell_type": "code",
   "execution_count": 4,
   "metadata": {
    "collapsed": true,
    "ExecuteTime": {
     "end_time": "2023-11-24T12:06:28.192716100Z",
     "start_time": "2023-11-24T12:06:28.178737Z"
    }
   },
   "outputs": [],
   "source": [
    "import openai\n",
    "import os"
   ]
  },
  {
   "cell_type": "code",
   "execution_count": 5,
   "outputs": [],
   "source": [
    "API_Key = \"xxxxx\"\n",
    "openai.api_key = API_Key"
   ],
   "metadata": {
    "collapsed": false,
    "ExecuteTime": {
     "end_time": "2023-11-24T12:06:56.082223300Z",
     "start_time": "2023-11-24T12:06:56.079230400Z"
    }
   }
  },
  {
   "cell_type": "code",
   "execution_count": 7,
   "outputs": [],
   "source": [
    "openai.api_key = os.getenv(\"OPENAI_API_KEY\")"
   ],
   "metadata": {
    "collapsed": false,
    "ExecuteTime": {
     "end_time": "2023-11-24T12:08:05.620389800Z",
     "start_time": "2023-11-24T12:08:05.605957900Z"
    }
   }
  },
  {
   "cell_type": "code",
   "execution_count": 9,
   "outputs": [],
   "source": [
    "response = openai.ChatCompletion.create(\n",
    "    model=\"gpt-3.5-turbo\",\n",
    "    messages = [{\"role\":\"user\",\"content\": \"Hello World!\"}],\n",
    "    temperature=1,\n",
    "    max_tokens=600,\n",
    "    top_p=1,\n",
    "    frequency_penalty=0,\n",
    "    presence_penalty=0\n",
    ")"
   ],
   "metadata": {
    "collapsed": false,
    "ExecuteTime": {
     "end_time": "2023-11-24T12:09:45.928571500Z",
     "start_time": "2023-11-24T12:09:45.245885700Z"
    }
   }
  },
  {
   "cell_type": "code",
   "execution_count": 10,
   "outputs": [
    {
     "name": "stdout",
     "output_type": "stream",
     "text": [
      "{\n",
      "  \"id\": \"chatcmpl-8OPI8QjpySYFAf9U2zxOKKbZC5Bg0\",\n",
      "  \"object\": \"chat.completion\",\n",
      "  \"created\": 1700827784,\n",
      "  \"model\": \"gpt-3.5-turbo-0613\",\n",
      "  \"choices\": [\n",
      "    {\n",
      "      \"index\": 0,\n",
      "      \"message\": {\n",
      "        \"role\": \"assistant\",\n",
      "        \"content\": \"Hello! How can I assist you today?\"\n",
      "      },\n",
      "      \"finish_reason\": \"stop\"\n",
      "    }\n",
      "  ],\n",
      "  \"usage\": {\n",
      "    \"prompt_tokens\": 10,\n",
      "    \"completion_tokens\": 9,\n",
      "    \"total_tokens\": 19\n",
      "  }\n",
      "}\n"
     ]
    }
   ],
   "source": [
    "print(response)"
   ],
   "metadata": {
    "collapsed": false,
    "ExecuteTime": {
     "end_time": "2023-11-24T12:09:55.968293500Z",
     "start_time": "2023-11-24T12:09:55.964800800Z"
    }
   }
  },
  {
   "cell_type": "code",
   "execution_count": 12,
   "outputs": [
    {
     "data": {
      "text/plain": "'Hello! How can I assist you today?'"
     },
     "execution_count": 12,
     "metadata": {},
     "output_type": "execute_result"
    }
   ],
   "source": [
    "response[\"choices\"][0][\"message\"][\"content\"]"
   ],
   "metadata": {
    "collapsed": false,
    "ExecuteTime": {
     "end_time": "2023-11-24T12:10:56.926079200Z",
     "start_time": "2023-11-24T12:10:56.917035700Z"
    }
   }
  },
  {
   "cell_type": "code",
   "execution_count": 24,
   "outputs": [],
   "source": [
    "def ask_chatgpt(messages):\n",
    "    model_response = openai.ChatCompletion.create(\n",
    "        model=\"gpt-3.5-turbo\",\n",
    "        messages=messages,\n",
    "        temperature=1,\n",
    "        max_tokens=600,\n",
    "        top_p=1,\n",
    "        frequency_penalty=0,\n",
    "        presence_penalty=0\n",
    "    )\n",
    "    return model_response[\"choices\"][0][\"message\"][\"content\"]"
   ],
   "metadata": {
    "collapsed": false,
    "ExecuteTime": {
     "end_time": "2023-11-24T12:25:18.049776100Z",
     "start_time": "2023-11-24T12:25:18.034961700Z"
    }
   }
  },
  {
   "cell_type": "code",
   "execution_count": 25,
   "outputs": [],
   "source": [
    "prompt_role='You are a Financial Analyst who needs to provide Market updates for your clients. Context : the daily market information is provided to you daily. Task : Summarize in 140 words the following Market news for a twitter post. The Market news to summarize:'"
   ],
   "metadata": {
    "collapsed": false,
    "ExecuteTime": {
     "end_time": "2023-11-24T12:25:35.608621800Z",
     "start_time": "2023-11-24T12:25:35.599095Z"
    }
   }
  },
  {
   "cell_type": "code",
   "execution_count": 26,
   "outputs": [],
   "source": [
    "Commentary = 'The JSE ended weaker on Tuesday, reversing some of the gains from the previous day. The market was pulled down by resource and industrial stocks. On the currency front, the rand traded firmer against the dollar, mainly supported by recent hawkish remarks from the South African Reserve Bank ahead of a crucial budget statement. The JS E All Share and blue-chip Top 40 Index decreased by 0.3% and 0.6%. European markets closed broadly stronger as investors reacted to a slew of earnings updates and economic data from the region. The UK’s FTSE 100 declined by 0.1%, while Germany’s DAX and France’s CAC 40 advanced by 0.6% and 0.9% respectively. US stocks moved mostly higher over the course of the trading session following some early weakness. Selling pressure faded shortly after the start of trading, as investors seemed reluctant to make significant moves ahead of the Federal Reserves monetary policy announcement on Wednesday. The S&P 500 and the Nasdaq Composite jumped by 0.6% and 0.5%, while the Dow Jones Industrial Average improved by 0.4%. Asian markets are up this morning. The Nikkei, the Hang Seng and the Shanghai Composite are 2.1%, 0.1% and 0.3% in the green.'"
   ],
   "metadata": {
    "collapsed": false,
    "ExecuteTime": {
     "end_time": "2023-11-24T12:25:56.068731600Z",
     "start_time": "2023-11-24T12:25:56.055501700Z"
    }
   }
  },
  {
   "cell_type": "code",
   "execution_count": 27,
   "outputs": [
    {
     "data": {
      "text/plain": "196"
     },
     "execution_count": 27,
     "metadata": {},
     "output_type": "execute_result"
    }
   ],
   "source": [
    "len(Commentary.split())"
   ],
   "metadata": {
    "collapsed": false,
    "ExecuteTime": {
     "end_time": "2023-11-24T12:26:11.427217800Z",
     "start_time": "2023-11-24T12:26:11.411246500Z"
    }
   }
  },
  {
   "cell_type": "code",
   "execution_count": 28,
   "outputs": [],
   "source": [
    "def assist_analyst(prole, MainComment):\n",
    "    prompt = f'{prole}{MainComment}'\n",
    "    return ask_chatgpt([{\"role\": \"user\", \"content\": prompt}])\n"
   ],
   "metadata": {
    "collapsed": false,
    "ExecuteTime": {
     "end_time": "2023-11-24T12:28:37.191711800Z",
     "start_time": "2023-11-24T12:28:37.186727100Z"
    }
   }
  },
  {
   "cell_type": "code",
   "execution_count": 29,
   "outputs": [
    {
     "data": {
      "text/plain": "\"Market Update: JSE weakened, dragged by resource and industrial stocks. Rand traded firmer supported by hawkish statements from SA Reserve Bank ahead of budget statement. European markets closed stronger on earnings and economic data. UK's FTSE 100 declined, Germany's DAX and France's CAC 40 advanced. US stocks mostly higher, investors cautious before Fed's policy announcement. S&P 500 and Nasdaq Composite jumped, Dow Jones Industrial Average improved. Asian markets up this morning, Nikkei, Hang Seng, and Shanghai Composite in the green. #marketnews #JSE #rand #Europeanmarkets #USstocks #Asianmarkets\""
     },
     "execution_count": 29,
     "metadata": {},
     "output_type": "execute_result"
    }
   ],
   "source": [
    "assist_analyst(prompt_role, Commentary)"
   ],
   "metadata": {
    "collapsed": false,
    "ExecuteTime": {
     "end_time": "2023-11-24T12:28:52.661715400Z",
     "start_time": "2023-11-24T12:28:48.236489400Z"
    }
   }
  },
  {
   "cell_type": "code",
   "execution_count": 30,
   "outputs": [
    {
     "data": {
      "text/plain": "90"
     },
     "execution_count": 30,
     "metadata": {},
     "output_type": "execute_result"
    }
   ],
   "source": [
    "len(assist_analyst(prompt_role, Commentary).split())"
   ],
   "metadata": {
    "collapsed": false,
    "ExecuteTime": {
     "end_time": "2023-11-24T12:29:15.726871Z",
     "start_time": "2023-11-24T12:29:11.926260500Z"
    }
   }
  },
  {
   "cell_type": "code",
   "execution_count": null,
   "outputs": [],
   "source": [],
   "metadata": {
    "collapsed": false
   }
  }
 ],
 "metadata": {
  "kernelspec": {
   "display_name": "Python 3",
   "language": "python",
   "name": "python3"
  },
  "language_info": {
   "codemirror_mode": {
    "name": "ipython",
    "version": 2
   },
   "file_extension": ".py",
   "mimetype": "text/x-python",
   "name": "python",
   "nbconvert_exporter": "python",
   "pygments_lexer": "ipython2",
   "version": "2.7.6"
  }
 },
 "nbformat": 4,
 "nbformat_minor": 0
}
