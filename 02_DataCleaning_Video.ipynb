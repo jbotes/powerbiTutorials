{
 "cells": [
  {
   "cell_type": "markdown",
   "source": [
    "# Import Libraries"
   ],
   "metadata": {
    "collapsed": false
   }
  },
  {
   "cell_type": "code",
   "execution_count": 193,
   "outputs": [],
   "source": [
    "import pandas as pd"
   ],
   "metadata": {
    "collapsed": false,
    "ExecuteTime": {
     "end_time": "2023-08-01T18:50:16.909365600Z",
     "start_time": "2023-08-01T18:50:16.894906300Z"
    }
   }
  },
  {
   "cell_type": "markdown",
   "source": [
    "# Import Dataframe from CSV"
   ],
   "metadata": {
    "collapsed": false
   }
  },
  {
   "cell_type": "code",
   "execution_count": 194,
   "outputs": [],
   "source": [
    "df = pd.read_csv('DataScientist2.csv')"
   ],
   "metadata": {
    "collapsed": false,
    "ExecuteTime": {
     "end_time": "2023-08-01T18:50:17.354097500Z",
     "start_time": "2023-08-01T18:50:17.246945900Z"
    }
   }
  },
  {
   "cell_type": "code",
   "execution_count": 195,
   "outputs": [
    {
     "data": {
      "text/plain": "   Unnamed: 0  index                          Job Title  \\\n0           0      0              Senior Data Scientist   \n1           1      1  Data Scientist, Product Analytics   \n2           2      2               Data Science Manager   \n3           3      3                       Data Analyst   \n4           4      4             Director, Data Science   \n\n                Salary Estimate  \\\n0  $111K-$181K (Glassdoor est.)   \n1  $111K-$181K (Glassdoor est.)   \n2  $111K-$181K (Glassdoor est.)   \n3  $111K-$181K (Glassdoor est.)   \n4  $111K-$181K (Glassdoor est.)   \n\n                                     Job Description  Rating  \\\n0  ABOUT HOPPER\\n\\nAt Hopper, we’re on a mission ...     3.5   \n1  At Noom, we use scientifically proven methods ...     4.5   \n2  Decode_M\\n\\nhttps://www.decode-m.com/\\n\\nData ...    -1.0   \n3                                                NaN     3.4   \n4  Director, Data Science - (200537)\\nDescription...     3.4   \n\n                      Company Name       Location      Headquarters  \\\n0                      Hopper\\n3.5   New York, NY  Montreal, Canada   \n1                     Noom US\\n4.5   New York, NY      New York, NY   \n2                         Decode_M   New York, NY      New York, NY   \n3            Sapphire Digital\\n3.4  Lyndhurst, NJ               NaN   \n4  United Entertainment Group\\n3.4   New York, NY      New York, NY   \n\n                     Size  Founded  Type of ownership  \\\n0   501 to 1000 employees     2007  Company - Private   \n1  1001 to 5000 employees     2008  Company - Private   \n2       1 to 50 employees       -1            Unknown   \n3    201 to 500 employees     2019  Company - Private   \n4     51 to 200 employees     2007  Company - Private   \n\n                    Industry                  Sector  \\\n0            Travel Agencies        Travel & Tourism   \n1  Health, Beauty, & Fitness       Consumer Services   \n2                         -1                      -1   \n3                        NaN  Information Technology   \n4                        NaN       Business Services   \n\n                    Revenue               Competitors Easy Apply  \n0  Unknown / Non-Applicable                        -1         -1  \n1  Unknown / Non-Applicable                        -1         -1  \n2  Unknown / Non-Applicable                        -1       TRUE  \n3  Unknown / Non-Applicable      Zocdoc, Healthgrades         -1  \n4  Unknown / Non-Applicable  BBDO, Grey Group, Droga5         -1  ",
      "text/html": "<div>\n<style scoped>\n    .dataframe tbody tr th:only-of-type {\n        vertical-align: middle;\n    }\n\n    .dataframe tbody tr th {\n        vertical-align: top;\n    }\n\n    .dataframe thead th {\n        text-align: right;\n    }\n</style>\n<table border=\"1\" class=\"dataframe\">\n  <thead>\n    <tr style=\"text-align: right;\">\n      <th></th>\n      <th>Unnamed: 0</th>\n      <th>index</th>\n      <th>Job Title</th>\n      <th>Salary Estimate</th>\n      <th>Job Description</th>\n      <th>Rating</th>\n      <th>Company Name</th>\n      <th>Location</th>\n      <th>Headquarters</th>\n      <th>Size</th>\n      <th>Founded</th>\n      <th>Type of ownership</th>\n      <th>Industry</th>\n      <th>Sector</th>\n      <th>Revenue</th>\n      <th>Competitors</th>\n      <th>Easy Apply</th>\n    </tr>\n  </thead>\n  <tbody>\n    <tr>\n      <th>0</th>\n      <td>0</td>\n      <td>0</td>\n      <td>Senior Data Scientist</td>\n      <td>$111K-$181K (Glassdoor est.)</td>\n      <td>ABOUT HOPPER\\n\\nAt Hopper, we’re on a mission ...</td>\n      <td>3.5</td>\n      <td>Hopper\\n3.5</td>\n      <td>New York, NY</td>\n      <td>Montreal, Canada</td>\n      <td>501 to 1000 employees</td>\n      <td>2007</td>\n      <td>Company - Private</td>\n      <td>Travel Agencies</td>\n      <td>Travel &amp; Tourism</td>\n      <td>Unknown / Non-Applicable</td>\n      <td>-1</td>\n      <td>-1</td>\n    </tr>\n    <tr>\n      <th>1</th>\n      <td>1</td>\n      <td>1</td>\n      <td>Data Scientist, Product Analytics</td>\n      <td>$111K-$181K (Glassdoor est.)</td>\n      <td>At Noom, we use scientifically proven methods ...</td>\n      <td>4.5</td>\n      <td>Noom US\\n4.5</td>\n      <td>New York, NY</td>\n      <td>New York, NY</td>\n      <td>1001 to 5000 employees</td>\n      <td>2008</td>\n      <td>Company - Private</td>\n      <td>Health, Beauty, &amp; Fitness</td>\n      <td>Consumer Services</td>\n      <td>Unknown / Non-Applicable</td>\n      <td>-1</td>\n      <td>-1</td>\n    </tr>\n    <tr>\n      <th>2</th>\n      <td>2</td>\n      <td>2</td>\n      <td>Data Science Manager</td>\n      <td>$111K-$181K (Glassdoor est.)</td>\n      <td>Decode_M\\n\\nhttps://www.decode-m.com/\\n\\nData ...</td>\n      <td>-1.0</td>\n      <td>Decode_M</td>\n      <td>New York, NY</td>\n      <td>New York, NY</td>\n      <td>1 to 50 employees</td>\n      <td>-1</td>\n      <td>Unknown</td>\n      <td>-1</td>\n      <td>-1</td>\n      <td>Unknown / Non-Applicable</td>\n      <td>-1</td>\n      <td>TRUE</td>\n    </tr>\n    <tr>\n      <th>3</th>\n      <td>3</td>\n      <td>3</td>\n      <td>Data Analyst</td>\n      <td>$111K-$181K (Glassdoor est.)</td>\n      <td>NaN</td>\n      <td>3.4</td>\n      <td>Sapphire Digital\\n3.4</td>\n      <td>Lyndhurst, NJ</td>\n      <td>NaN</td>\n      <td>201 to 500 employees</td>\n      <td>2019</td>\n      <td>Company - Private</td>\n      <td>NaN</td>\n      <td>Information Technology</td>\n      <td>Unknown / Non-Applicable</td>\n      <td>Zocdoc, Healthgrades</td>\n      <td>-1</td>\n    </tr>\n    <tr>\n      <th>4</th>\n      <td>4</td>\n      <td>4</td>\n      <td>Director, Data Science</td>\n      <td>$111K-$181K (Glassdoor est.)</td>\n      <td>Director, Data Science - (200537)\\nDescription...</td>\n      <td>3.4</td>\n      <td>United Entertainment Group\\n3.4</td>\n      <td>New York, NY</td>\n      <td>New York, NY</td>\n      <td>51 to 200 employees</td>\n      <td>2007</td>\n      <td>Company - Private</td>\n      <td>NaN</td>\n      <td>Business Services</td>\n      <td>Unknown / Non-Applicable</td>\n      <td>BBDO, Grey Group, Droga5</td>\n      <td>-1</td>\n    </tr>\n  </tbody>\n</table>\n</div>"
     },
     "execution_count": 195,
     "metadata": {},
     "output_type": "execute_result"
    }
   ],
   "source": [
    "df.head()"
   ],
   "metadata": {
    "collapsed": false,
    "ExecuteTime": {
     "end_time": "2023-08-01T18:50:17.463406200Z",
     "start_time": "2023-08-01T18:50:17.454269600Z"
    }
   }
  },
  {
   "cell_type": "code",
   "execution_count": 196,
   "outputs": [
    {
     "data": {
      "text/plain": "(3912, 17)"
     },
     "execution_count": 196,
     "metadata": {},
     "output_type": "execute_result"
    }
   ],
   "source": [
    "df.shape"
   ],
   "metadata": {
    "collapsed": false,
    "ExecuteTime": {
     "end_time": "2023-08-01T18:50:17.619805700Z",
     "start_time": "2023-08-01T18:50:17.604856100Z"
    }
   }
  },
  {
   "cell_type": "markdown",
   "source": [
    "# 1 - Dropping Columns"
   ],
   "metadata": {
    "collapsed": false
   }
  },
  {
   "cell_type": "code",
   "execution_count": 197,
   "outputs": [],
   "source": [
    "to_drop = ['index','Rating','Headquarters','Size','Founded','Type of ownership'\n",
    "    ,'Revenue','Sector','Easy Apply','Competitors','Unnamed: 0']"
   ],
   "metadata": {
    "collapsed": false,
    "ExecuteTime": {
     "end_time": "2023-08-01T18:50:18.007820200Z",
     "start_time": "2023-08-01T18:50:17.998343700Z"
    }
   }
  },
  {
   "cell_type": "code",
   "execution_count": 198,
   "outputs": [],
   "source": [
    "df.drop(to_drop, inplace=True, axis=1)"
   ],
   "metadata": {
    "collapsed": false,
    "ExecuteTime": {
     "end_time": "2023-08-01T18:50:18.209356300Z",
     "start_time": "2023-08-01T18:50:18.195895800Z"
    }
   }
  },
  {
   "cell_type": "code",
   "execution_count": 199,
   "outputs": [
    {
     "data": {
      "text/plain": "(3912, 6)"
     },
     "execution_count": 199,
     "metadata": {},
     "output_type": "execute_result"
    }
   ],
   "source": [
    "df.shape"
   ],
   "metadata": {
    "collapsed": false,
    "ExecuteTime": {
     "end_time": "2023-08-01T18:50:18.410704200Z",
     "start_time": "2023-08-01T18:50:18.385899500Z"
    }
   }
  },
  {
   "cell_type": "code",
   "execution_count": 200,
   "outputs": [
    {
     "data": {
      "text/plain": "                           Job Title               Salary Estimate  \\\n0              Senior Data Scientist  $111K-$181K (Glassdoor est.)   \n1  Data Scientist, Product Analytics  $111K-$181K (Glassdoor est.)   \n2               Data Science Manager  $111K-$181K (Glassdoor est.)   \n3                       Data Analyst  $111K-$181K (Glassdoor est.)   \n4             Director, Data Science  $111K-$181K (Glassdoor est.)   \n\n                                     Job Description  \\\n0  ABOUT HOPPER\\n\\nAt Hopper, we’re on a mission ...   \n1  At Noom, we use scientifically proven methods ...   \n2  Decode_M\\n\\nhttps://www.decode-m.com/\\n\\nData ...   \n3                                                NaN   \n4  Director, Data Science - (200537)\\nDescription...   \n\n                      Company Name       Location                   Industry  \n0                      Hopper\\n3.5   New York, NY            Travel Agencies  \n1                     Noom US\\n4.5   New York, NY  Health, Beauty, & Fitness  \n2                         Decode_M   New York, NY                         -1  \n3            Sapphire Digital\\n3.4  Lyndhurst, NJ                        NaN  \n4  United Entertainment Group\\n3.4   New York, NY                        NaN  ",
      "text/html": "<div>\n<style scoped>\n    .dataframe tbody tr th:only-of-type {\n        vertical-align: middle;\n    }\n\n    .dataframe tbody tr th {\n        vertical-align: top;\n    }\n\n    .dataframe thead th {\n        text-align: right;\n    }\n</style>\n<table border=\"1\" class=\"dataframe\">\n  <thead>\n    <tr style=\"text-align: right;\">\n      <th></th>\n      <th>Job Title</th>\n      <th>Salary Estimate</th>\n      <th>Job Description</th>\n      <th>Company Name</th>\n      <th>Location</th>\n      <th>Industry</th>\n    </tr>\n  </thead>\n  <tbody>\n    <tr>\n      <th>0</th>\n      <td>Senior Data Scientist</td>\n      <td>$111K-$181K (Glassdoor est.)</td>\n      <td>ABOUT HOPPER\\n\\nAt Hopper, we’re on a mission ...</td>\n      <td>Hopper\\n3.5</td>\n      <td>New York, NY</td>\n      <td>Travel Agencies</td>\n    </tr>\n    <tr>\n      <th>1</th>\n      <td>Data Scientist, Product Analytics</td>\n      <td>$111K-$181K (Glassdoor est.)</td>\n      <td>At Noom, we use scientifically proven methods ...</td>\n      <td>Noom US\\n4.5</td>\n      <td>New York, NY</td>\n      <td>Health, Beauty, &amp; Fitness</td>\n    </tr>\n    <tr>\n      <th>2</th>\n      <td>Data Science Manager</td>\n      <td>$111K-$181K (Glassdoor est.)</td>\n      <td>Decode_M\\n\\nhttps://www.decode-m.com/\\n\\nData ...</td>\n      <td>Decode_M</td>\n      <td>New York, NY</td>\n      <td>-1</td>\n    </tr>\n    <tr>\n      <th>3</th>\n      <td>Data Analyst</td>\n      <td>$111K-$181K (Glassdoor est.)</td>\n      <td>NaN</td>\n      <td>Sapphire Digital\\n3.4</td>\n      <td>Lyndhurst, NJ</td>\n      <td>NaN</td>\n    </tr>\n    <tr>\n      <th>4</th>\n      <td>Director, Data Science</td>\n      <td>$111K-$181K (Glassdoor est.)</td>\n      <td>Director, Data Science - (200537)\\nDescription...</td>\n      <td>United Entertainment Group\\n3.4</td>\n      <td>New York, NY</td>\n      <td>NaN</td>\n    </tr>\n  </tbody>\n</table>\n</div>"
     },
     "execution_count": 200,
     "metadata": {},
     "output_type": "execute_result"
    }
   ],
   "source": [
    "df.head()"
   ],
   "metadata": {
    "collapsed": false,
    "ExecuteTime": {
     "end_time": "2023-08-01T18:50:18.595738200Z",
     "start_time": "2023-08-01T18:50:18.589758100Z"
    }
   }
  },
  {
   "cell_type": "markdown",
   "source": [
    "# 2 - Removing Duplicates"
   ],
   "metadata": {
    "collapsed": false
   }
  },
  {
   "cell_type": "code",
   "execution_count": 201,
   "outputs": [
    {
     "data": {
      "text/plain": "                                              Job Title  \\\n3906                   Security Analytics Data Engineer   \n3907                   Security Analytics Data Engineer   \n3908  Patient Safety Physician or Safety Scientist -...   \n3909                   Security Analytics Data Engineer   \n3910                   Security Analytics Data Engineer   \n3911  Patient Safety Physician or Safety Scientist -...   \n\n                  Salary Estimate  \\\n3906  $55K-$112K (Glassdoor est.)   \n3907  $55K-$112K (Glassdoor est.)   \n3908  $55K-$112K (Glassdoor est.)   \n3909  $55K-$112K (Glassdoor est.)   \n3910  $55K-$112K (Glassdoor est.)   \n3911  $55K-$112K (Glassdoor est.)   \n\n                                        Job Description  \\\n3906  Job DescriptionThe Security Analytics Data Eng...   \n3907  The Security Analytics Data Engineer will inte...   \n3908  Help us transform patients' lives.\\nAt UCB, we...   \n3909  Job DescriptionThe Security Analytics Data Eng...   \n3910  The Security Analytics Data Engineer will inte...   \n3911  Help us transform patients' lives.\\nAt UCB, we...   \n\n                         Company Name    Location                   Industry  \n3906              PDS Tech, Inc.\\n3.8  Dublin, OH     Staffing & Outsourcing  \n3907  Data Resource Technologies\\n4.0  Dublin, OH                 Accounting  \n3908                         UCB\\n3.7  Slough, OH  Biotech & Pharmaceuticals  \n3909              PDS Tech, Inc.\\n3.8  Dublin, OH     Staffing & Outsourcing  \n3910  Data Resource Technologies\\n4.0  Dublin, OH                 Accounting  \n3911                         UCB\\n3.7  Slough, OH  Biotech & Pharmaceuticals  ",
      "text/html": "<div>\n<style scoped>\n    .dataframe tbody tr th:only-of-type {\n        vertical-align: middle;\n    }\n\n    .dataframe tbody tr th {\n        vertical-align: top;\n    }\n\n    .dataframe thead th {\n        text-align: right;\n    }\n</style>\n<table border=\"1\" class=\"dataframe\">\n  <thead>\n    <tr style=\"text-align: right;\">\n      <th></th>\n      <th>Job Title</th>\n      <th>Salary Estimate</th>\n      <th>Job Description</th>\n      <th>Company Name</th>\n      <th>Location</th>\n      <th>Industry</th>\n    </tr>\n  </thead>\n  <tbody>\n    <tr>\n      <th>3906</th>\n      <td>Security Analytics Data Engineer</td>\n      <td>$55K-$112K (Glassdoor est.)</td>\n      <td>Job DescriptionThe Security Analytics Data Eng...</td>\n      <td>PDS Tech, Inc.\\n3.8</td>\n      <td>Dublin, OH</td>\n      <td>Staffing &amp; Outsourcing</td>\n    </tr>\n    <tr>\n      <th>3907</th>\n      <td>Security Analytics Data Engineer</td>\n      <td>$55K-$112K (Glassdoor est.)</td>\n      <td>The Security Analytics Data Engineer will inte...</td>\n      <td>Data Resource Technologies\\n4.0</td>\n      <td>Dublin, OH</td>\n      <td>Accounting</td>\n    </tr>\n    <tr>\n      <th>3908</th>\n      <td>Patient Safety Physician or Safety Scientist -...</td>\n      <td>$55K-$112K (Glassdoor est.)</td>\n      <td>Help us transform patients' lives.\\nAt UCB, we...</td>\n      <td>UCB\\n3.7</td>\n      <td>Slough, OH</td>\n      <td>Biotech &amp; Pharmaceuticals</td>\n    </tr>\n    <tr>\n      <th>3909</th>\n      <td>Security Analytics Data Engineer</td>\n      <td>$55K-$112K (Glassdoor est.)</td>\n      <td>Job DescriptionThe Security Analytics Data Eng...</td>\n      <td>PDS Tech, Inc.\\n3.8</td>\n      <td>Dublin, OH</td>\n      <td>Staffing &amp; Outsourcing</td>\n    </tr>\n    <tr>\n      <th>3910</th>\n      <td>Security Analytics Data Engineer</td>\n      <td>$55K-$112K (Glassdoor est.)</td>\n      <td>The Security Analytics Data Engineer will inte...</td>\n      <td>Data Resource Technologies\\n4.0</td>\n      <td>Dublin, OH</td>\n      <td>Accounting</td>\n    </tr>\n    <tr>\n      <th>3911</th>\n      <td>Patient Safety Physician or Safety Scientist -...</td>\n      <td>$55K-$112K (Glassdoor est.)</td>\n      <td>Help us transform patients' lives.\\nAt UCB, we...</td>\n      <td>UCB\\n3.7</td>\n      <td>Slough, OH</td>\n      <td>Biotech &amp; Pharmaceuticals</td>\n    </tr>\n  </tbody>\n</table>\n</div>"
     },
     "execution_count": 201,
     "metadata": {},
     "output_type": "execute_result"
    }
   ],
   "source": [
    "df[df.duplicated(keep = False)]"
   ],
   "metadata": {
    "collapsed": false,
    "ExecuteTime": {
     "end_time": "2023-08-01T18:50:18.950391100Z",
     "start_time": "2023-08-01T18:50:18.934443800Z"
    }
   }
  },
  {
   "cell_type": "code",
   "execution_count": 202,
   "outputs": [],
   "source": [
    "df.drop_duplicates(keep = 'first', inplace=True)"
   ],
   "metadata": {
    "collapsed": false,
    "ExecuteTime": {
     "end_time": "2023-08-01T18:50:19.180643Z",
     "start_time": "2023-08-01T18:50:19.165920500Z"
    }
   }
  },
  {
   "cell_type": "code",
   "execution_count": 203,
   "outputs": [
    {
     "data": {
      "text/plain": "Empty DataFrame\nColumns: [Job Title, Salary Estimate, Job Description, Company Name, Location, Industry]\nIndex: []",
      "text/html": "<div>\n<style scoped>\n    .dataframe tbody tr th:only-of-type {\n        vertical-align: middle;\n    }\n\n    .dataframe tbody tr th {\n        vertical-align: top;\n    }\n\n    .dataframe thead th {\n        text-align: right;\n    }\n</style>\n<table border=\"1\" class=\"dataframe\">\n  <thead>\n    <tr style=\"text-align: right;\">\n      <th></th>\n      <th>Job Title</th>\n      <th>Salary Estimate</th>\n      <th>Job Description</th>\n      <th>Company Name</th>\n      <th>Location</th>\n      <th>Industry</th>\n    </tr>\n  </thead>\n  <tbody>\n  </tbody>\n</table>\n</div>"
     },
     "execution_count": 203,
     "metadata": {},
     "output_type": "execute_result"
    }
   ],
   "source": [
    "df[df.duplicated(keep = False)]"
   ],
   "metadata": {
    "collapsed": false,
    "ExecuteTime": {
     "end_time": "2023-08-01T18:50:19.396364100Z",
     "start_time": "2023-08-01T18:50:19.363076100Z"
    }
   }
  },
  {
   "cell_type": "markdown",
   "source": [
    "# 3 - Remove Irrelevant Rows"
   ],
   "metadata": {
    "collapsed": false
   }
  },
  {
   "cell_type": "code",
   "execution_count": 204,
   "outputs": [
    {
     "data": {
      "text/plain": "21"
     },
     "execution_count": 204,
     "metadata": {},
     "output_type": "execute_result"
    }
   ],
   "source": [
    "len(df[df['Salary Estimate'].str.contains('Per Hour', case = False)])"
   ],
   "metadata": {
    "collapsed": false,
    "ExecuteTime": {
     "end_time": "2023-08-01T18:50:19.764144400Z",
     "start_time": "2023-08-01T18:50:19.750184200Z"
    }
   }
  },
  {
   "cell_type": "code",
   "execution_count": 205,
   "outputs": [
    {
     "data": {
      "text/plain": "(3909, 6)"
     },
     "execution_count": 205,
     "metadata": {},
     "output_type": "execute_result"
    }
   ],
   "source": [
    "df.shape"
   ],
   "metadata": {
    "collapsed": false,
    "ExecuteTime": {
     "end_time": "2023-08-01T18:50:19.999297900Z",
     "start_time": "2023-08-01T18:50:19.988335Z"
    }
   }
  },
  {
   "cell_type": "code",
   "execution_count": 206,
   "outputs": [],
   "source": [
    "df = df.drop(df[df['Salary Estimate'].str.contains('Per Hour', case = False) == True].index)"
   ],
   "metadata": {
    "collapsed": false,
    "ExecuteTime": {
     "end_time": "2023-08-01T18:50:20.225073100Z",
     "start_time": "2023-08-01T18:50:20.211120100Z"
    }
   }
  },
  {
   "cell_type": "code",
   "execution_count": 207,
   "outputs": [
    {
     "data": {
      "text/plain": "(3888, 6)"
     },
     "execution_count": 207,
     "metadata": {},
     "output_type": "execute_result"
    }
   ],
   "source": [
    "df.shape"
   ],
   "metadata": {
    "collapsed": false,
    "ExecuteTime": {
     "end_time": "2023-08-01T18:50:20.413462400Z",
     "start_time": "2023-08-01T18:50:20.400996Z"
    }
   }
  },
  {
   "cell_type": "code",
   "execution_count": 208,
   "outputs": [
    {
     "data": {
      "text/plain": "0"
     },
     "execution_count": 208,
     "metadata": {},
     "output_type": "execute_result"
    }
   ],
   "source": [
    "len(df[df['Salary Estimate'].str.contains('Per Hour', case = False)])"
   ],
   "metadata": {
    "collapsed": false,
    "ExecuteTime": {
     "end_time": "2023-08-01T18:50:20.626157200Z",
     "start_time": "2023-08-01T18:50:20.594753Z"
    }
   }
  },
  {
   "cell_type": "markdown",
   "source": [
    "# 4 - Removing Nulls and Blanks"
   ],
   "metadata": {
    "collapsed": false
   }
  },
  {
   "cell_type": "code",
   "execution_count": 209,
   "outputs": [
    {
     "data": {
      "text/plain": "Job Title          1\nSalary Estimate    0\nJob Description    1\nCompany Name       0\nLocation           0\nIndustry           2\ndtype: int64"
     },
     "execution_count": 209,
     "metadata": {},
     "output_type": "execute_result"
    }
   ],
   "source": [
    "df.isna().sum()"
   ],
   "metadata": {
    "collapsed": false,
    "ExecuteTime": {
     "end_time": "2023-08-01T18:50:21.006062200Z",
     "start_time": "2023-08-01T18:50:20.980636600Z"
    }
   }
  },
  {
   "cell_type": "code",
   "execution_count": 210,
   "outputs": [],
   "source": [
    "df = df.dropna(subset=['Job Description'])"
   ],
   "metadata": {
    "collapsed": false,
    "ExecuteTime": {
     "end_time": "2023-08-01T18:50:21.162088200Z",
     "start_time": "2023-08-01T18:50:21.141158300Z"
    }
   }
  },
  {
   "cell_type": "code",
   "execution_count": 211,
   "outputs": [
    {
     "data": {
      "text/plain": "Job Title          1\nSalary Estimate    0\nJob Description    0\nCompany Name       0\nLocation           0\nIndustry           1\ndtype: int64"
     },
     "execution_count": 211,
     "metadata": {},
     "output_type": "execute_result"
    }
   ],
   "source": [
    "df.isna().sum()"
   ],
   "metadata": {
    "collapsed": false,
    "ExecuteTime": {
     "end_time": "2023-08-01T18:50:21.362437800Z",
     "start_time": "2023-08-01T18:50:21.344498100Z"
    }
   }
  },
  {
   "cell_type": "code",
   "execution_count": 212,
   "outputs": [],
   "source": [
    "df = df.dropna()"
   ],
   "metadata": {
    "collapsed": false,
    "ExecuteTime": {
     "end_time": "2023-08-01T18:50:21.549832600Z",
     "start_time": "2023-08-01T18:50:21.531892700Z"
    }
   }
  },
  {
   "cell_type": "code",
   "execution_count": 213,
   "outputs": [
    {
     "data": {
      "text/plain": "Job Title          0\nSalary Estimate    0\nJob Description    0\nCompany Name       0\nLocation           0\nIndustry           0\ndtype: int64"
     },
     "execution_count": 213,
     "metadata": {},
     "output_type": "execute_result"
    }
   ],
   "source": [
    "df.isna().sum()"
   ],
   "metadata": {
    "collapsed": false,
    "ExecuteTime": {
     "end_time": "2023-08-01T18:50:21.738086500Z",
     "start_time": "2023-08-01T18:50:21.727123400Z"
    }
   }
  },
  {
   "cell_type": "code",
   "execution_count": 214,
   "outputs": [
    {
     "data": {
      "text/plain": "                                       Job Title  \\\n0                          Senior Data Scientist   \n1              Data Scientist, Product Analytics   \n2                           Data Science Manager   \n5                                 Data Scientist   \n7                Quantitative Research Associate   \n..                                           ...   \n98                                Data Scientist   \n99           Machine Learning Engineer/Scientist   \n100            Point72 Healthcare Data Scientist   \n101  Senior Data Scientist - Automated Marketing   \n102                               Data Scientist   \n\n                  Salary Estimate  \\\n0    $111K-$181K (Glassdoor est.)   \n1    $111K-$181K (Glassdoor est.)   \n2    $111K-$181K (Glassdoor est.)   \n5    $111K-$181K (Glassdoor est.)   \n7    $111K-$181K (Glassdoor est.)   \n..                            ...   \n98    $74K-$124K (Glassdoor est.)   \n99    $74K-$124K (Glassdoor est.)   \n100   $74K-$124K (Glassdoor est.)   \n101   $74K-$124K (Glassdoor est.)   \n102   $74K-$124K (Glassdoor est.)   \n\n                                       Job Description  \\\n0    ABOUT HOPPER\\n\\nAt Hopper, we’re on a mission ...   \n1    At Noom, we use scientifically proven methods ...   \n2    Decode_M\\n\\nhttps://www.decode-m.com/\\n\\nData ...   \n5    Job Brief\\n\\nThe ideal candidate will have pre...   \n7    Seeking a quant to work with senior researcher...   \n..                                                 ...   \n98   Data Scientist\\n\\n\\nNew York, NY | Full Time\\n...   \n99   About the Position\\n\\n\\nJane Street is seeking...   \n100  About Point72\\nPoint72 Asset Management is a g...   \n101  We are looking for a Senior Data Scientist wit...   \n102  We are the most sought after hedge fund in New...   \n\n               Company Name      Location  \\\n0               Hopper\\n3.5  New York, NY   \n1              Noom US\\n4.5  New York, NY   \n2                  Decode_M  New York, NY   \n5        IFG Companies\\n2.9  New York, NY   \n7    Enlightenment Research  New York, NY   \n..                      ...           ...   \n98        CKM Advisors\\n2.9  New York, NY   \n99         Jane Street\\n4.8  New York, NY   \n100            Point72\\n3.9  New York, NY   \n101            Spotify\\n3.8  New York, NY   \n102            Averity\\n5.0  New York, NY   \n\n                                  Industry  \n0                          Travel Agencies  \n1                Health, Beauty, & Fitness  \n2                                       -1  \n5                       Insurance Carriers  \n7                                       -1  \n..                                     ...  \n98                              Consulting  \n99   Investment Banking & Asset Management  \n100  Investment Banking & Asset Management  \n101                               Internet  \n102                 Staffing & Outsourcing  \n\n[100 rows x 6 columns]",
      "text/html": "<div>\n<style scoped>\n    .dataframe tbody tr th:only-of-type {\n        vertical-align: middle;\n    }\n\n    .dataframe tbody tr th {\n        vertical-align: top;\n    }\n\n    .dataframe thead th {\n        text-align: right;\n    }\n</style>\n<table border=\"1\" class=\"dataframe\">\n  <thead>\n    <tr style=\"text-align: right;\">\n      <th></th>\n      <th>Job Title</th>\n      <th>Salary Estimate</th>\n      <th>Job Description</th>\n      <th>Company Name</th>\n      <th>Location</th>\n      <th>Industry</th>\n    </tr>\n  </thead>\n  <tbody>\n    <tr>\n      <th>0</th>\n      <td>Senior Data Scientist</td>\n      <td>$111K-$181K (Glassdoor est.)</td>\n      <td>ABOUT HOPPER\\n\\nAt Hopper, we’re on a mission ...</td>\n      <td>Hopper\\n3.5</td>\n      <td>New York, NY</td>\n      <td>Travel Agencies</td>\n    </tr>\n    <tr>\n      <th>1</th>\n      <td>Data Scientist, Product Analytics</td>\n      <td>$111K-$181K (Glassdoor est.)</td>\n      <td>At Noom, we use scientifically proven methods ...</td>\n      <td>Noom US\\n4.5</td>\n      <td>New York, NY</td>\n      <td>Health, Beauty, &amp; Fitness</td>\n    </tr>\n    <tr>\n      <th>2</th>\n      <td>Data Science Manager</td>\n      <td>$111K-$181K (Glassdoor est.)</td>\n      <td>Decode_M\\n\\nhttps://www.decode-m.com/\\n\\nData ...</td>\n      <td>Decode_M</td>\n      <td>New York, NY</td>\n      <td>-1</td>\n    </tr>\n    <tr>\n      <th>5</th>\n      <td>Data Scientist</td>\n      <td>$111K-$181K (Glassdoor est.)</td>\n      <td>Job Brief\\n\\nThe ideal candidate will have pre...</td>\n      <td>IFG Companies\\n2.9</td>\n      <td>New York, NY</td>\n      <td>Insurance Carriers</td>\n    </tr>\n    <tr>\n      <th>7</th>\n      <td>Quantitative Research Associate</td>\n      <td>$111K-$181K (Glassdoor est.)</td>\n      <td>Seeking a quant to work with senior researcher...</td>\n      <td>Enlightenment Research</td>\n      <td>New York, NY</td>\n      <td>-1</td>\n    </tr>\n    <tr>\n      <th>...</th>\n      <td>...</td>\n      <td>...</td>\n      <td>...</td>\n      <td>...</td>\n      <td>...</td>\n      <td>...</td>\n    </tr>\n    <tr>\n      <th>98</th>\n      <td>Data Scientist</td>\n      <td>$74K-$124K (Glassdoor est.)</td>\n      <td>Data Scientist\\n\\n\\nNew York, NY | Full Time\\n...</td>\n      <td>CKM Advisors\\n2.9</td>\n      <td>New York, NY</td>\n      <td>Consulting</td>\n    </tr>\n    <tr>\n      <th>99</th>\n      <td>Machine Learning Engineer/Scientist</td>\n      <td>$74K-$124K (Glassdoor est.)</td>\n      <td>About the Position\\n\\n\\nJane Street is seeking...</td>\n      <td>Jane Street\\n4.8</td>\n      <td>New York, NY</td>\n      <td>Investment Banking &amp; Asset Management</td>\n    </tr>\n    <tr>\n      <th>100</th>\n      <td>Point72 Healthcare Data Scientist</td>\n      <td>$74K-$124K (Glassdoor est.)</td>\n      <td>About Point72\\nPoint72 Asset Management is a g...</td>\n      <td>Point72\\n3.9</td>\n      <td>New York, NY</td>\n      <td>Investment Banking &amp; Asset Management</td>\n    </tr>\n    <tr>\n      <th>101</th>\n      <td>Senior Data Scientist - Automated Marketing</td>\n      <td>$74K-$124K (Glassdoor est.)</td>\n      <td>We are looking for a Senior Data Scientist wit...</td>\n      <td>Spotify\\n3.8</td>\n      <td>New York, NY</td>\n      <td>Internet</td>\n    </tr>\n    <tr>\n      <th>102</th>\n      <td>Data Scientist</td>\n      <td>$74K-$124K (Glassdoor est.)</td>\n      <td>We are the most sought after hedge fund in New...</td>\n      <td>Averity\\n5.0</td>\n      <td>New York, NY</td>\n      <td>Staffing &amp; Outsourcing</td>\n    </tr>\n  </tbody>\n</table>\n<p>100 rows × 6 columns</p>\n</div>"
     },
     "execution_count": 214,
     "metadata": {},
     "output_type": "execute_result"
    }
   ],
   "source": [
    "df.head(100)"
   ],
   "metadata": {
    "collapsed": false,
    "ExecuteTime": {
     "end_time": "2023-08-01T18:50:21.942425300Z",
     "start_time": "2023-08-01T18:50:21.923488700Z"
    }
   }
  },
  {
   "cell_type": "code",
   "execution_count": 215,
   "outputs": [
    {
     "data": {
      "text/plain": "                                              Job Title  \\\n2                                  Data Science Manager   \n7                       Quantitative Research Associate   \n40                                       Data Scientist   \n44                                 Data Science Analyst   \n55                Data Scientist, Analytics & Inference   \n...                                                 ...   \n3880            Data Science Technical Lead / Architect   \n3882                                  Big Data Engineer   \n3883  Columbus Opportunities: Finance, Accounting, D...   \n3886                                  Big Data Engineer   \n3897                               Senior Data Engineer   \n\n                   Salary Estimate  \\\n2     $111K-$181K (Glassdoor est.)   \n7     $111K-$181K (Glassdoor est.)   \n40    $120K-$140K (Glassdoor est.)   \n44    $120K-$140K (Glassdoor est.)   \n55    $120K-$140K (Glassdoor est.)   \n...                            ...   \n3880    $39K-$86K (Glassdoor est.)   \n3882   $55K-$112K (Glassdoor est.)   \n3883   $55K-$112K (Glassdoor est.)   \n3886   $55K-$112K (Glassdoor est.)   \n3897   $55K-$112K (Glassdoor est.)   \n\n                                        Job Description  \\\n2     Decode_M\\n\\nhttps://www.decode-m.com/\\n\\nData ...   \n7     Seeking a quant to work with senior researcher...   \n40    We make small businesses more successful throu...   \n44    Job Description\\nOur client, a music streaming...   \n55    Hello, World! Codecademy has helped over 45 mi...   \n...                                                 ...   \n3880  Urgent need for DATASCIENCE TECHNICAL LEAD ARC...   \n3882  RESPONSIBILITIES Kforce has a client in search...   \n3883  Job Description\\nWe are experts at conducting ...   \n3886  Job Description:\\nAct as a strong developer us...   \n3897  Job Responsibility:\\nBased on business strateg...   \n\n                    Company Name      Location Industry  \n2                       Decode_M  New York, NY       -1  \n7         Enlightenment Research  New York, NY       -1  \n40                 NorthOne\\n4.3  New York, NY       -1  \n44         MUSIC & Entertainment  New York, NY       -1  \n55                   Codeacademy  New York, NY       -1  \n...                          ...           ...      ...  \n3880            DATAECONOMY\\n5.0  Columbus, OH       -1  \n3882  Kforce Technology Staffing  Columbus, OH       -1  \n3883    Rainmaker Resources, LLC  Columbus, OH       -1  \n3886                 Zllius Inc.  Columbus, OH       -1  \n3897              Kognetics\\n3.6   Gahanna, OH       -1  \n\n[548 rows x 6 columns]",
      "text/html": "<div>\n<style scoped>\n    .dataframe tbody tr th:only-of-type {\n        vertical-align: middle;\n    }\n\n    .dataframe tbody tr th {\n        vertical-align: top;\n    }\n\n    .dataframe thead th {\n        text-align: right;\n    }\n</style>\n<table border=\"1\" class=\"dataframe\">\n  <thead>\n    <tr style=\"text-align: right;\">\n      <th></th>\n      <th>Job Title</th>\n      <th>Salary Estimate</th>\n      <th>Job Description</th>\n      <th>Company Name</th>\n      <th>Location</th>\n      <th>Industry</th>\n    </tr>\n  </thead>\n  <tbody>\n    <tr>\n      <th>2</th>\n      <td>Data Science Manager</td>\n      <td>$111K-$181K (Glassdoor est.)</td>\n      <td>Decode_M\\n\\nhttps://www.decode-m.com/\\n\\nData ...</td>\n      <td>Decode_M</td>\n      <td>New York, NY</td>\n      <td>-1</td>\n    </tr>\n    <tr>\n      <th>7</th>\n      <td>Quantitative Research Associate</td>\n      <td>$111K-$181K (Glassdoor est.)</td>\n      <td>Seeking a quant to work with senior researcher...</td>\n      <td>Enlightenment Research</td>\n      <td>New York, NY</td>\n      <td>-1</td>\n    </tr>\n    <tr>\n      <th>40</th>\n      <td>Data Scientist</td>\n      <td>$120K-$140K (Glassdoor est.)</td>\n      <td>We make small businesses more successful throu...</td>\n      <td>NorthOne\\n4.3</td>\n      <td>New York, NY</td>\n      <td>-1</td>\n    </tr>\n    <tr>\n      <th>44</th>\n      <td>Data Science Analyst</td>\n      <td>$120K-$140K (Glassdoor est.)</td>\n      <td>Job Description\\nOur client, a music streaming...</td>\n      <td>MUSIC &amp; Entertainment</td>\n      <td>New York, NY</td>\n      <td>-1</td>\n    </tr>\n    <tr>\n      <th>55</th>\n      <td>Data Scientist, Analytics &amp; Inference</td>\n      <td>$120K-$140K (Glassdoor est.)</td>\n      <td>Hello, World! Codecademy has helped over 45 mi...</td>\n      <td>Codeacademy</td>\n      <td>New York, NY</td>\n      <td>-1</td>\n    </tr>\n    <tr>\n      <th>...</th>\n      <td>...</td>\n      <td>...</td>\n      <td>...</td>\n      <td>...</td>\n      <td>...</td>\n      <td>...</td>\n    </tr>\n    <tr>\n      <th>3880</th>\n      <td>Data Science Technical Lead / Architect</td>\n      <td>$39K-$86K (Glassdoor est.)</td>\n      <td>Urgent need for DATASCIENCE TECHNICAL LEAD ARC...</td>\n      <td>DATAECONOMY\\n5.0</td>\n      <td>Columbus, OH</td>\n      <td>-1</td>\n    </tr>\n    <tr>\n      <th>3882</th>\n      <td>Big Data Engineer</td>\n      <td>$55K-$112K (Glassdoor est.)</td>\n      <td>RESPONSIBILITIES Kforce has a client in search...</td>\n      <td>Kforce Technology Staffing</td>\n      <td>Columbus, OH</td>\n      <td>-1</td>\n    </tr>\n    <tr>\n      <th>3883</th>\n      <td>Columbus Opportunities: Finance, Accounting, D...</td>\n      <td>$55K-$112K (Glassdoor est.)</td>\n      <td>Job Description\\nWe are experts at conducting ...</td>\n      <td>Rainmaker Resources, LLC</td>\n      <td>Columbus, OH</td>\n      <td>-1</td>\n    </tr>\n    <tr>\n      <th>3886</th>\n      <td>Big Data Engineer</td>\n      <td>$55K-$112K (Glassdoor est.)</td>\n      <td>Job Description:\\nAct as a strong developer us...</td>\n      <td>Zllius Inc.</td>\n      <td>Columbus, OH</td>\n      <td>-1</td>\n    </tr>\n    <tr>\n      <th>3897</th>\n      <td>Senior Data Engineer</td>\n      <td>$55K-$112K (Glassdoor est.)</td>\n      <td>Job Responsibility:\\nBased on business strateg...</td>\n      <td>Kognetics\\n3.6</td>\n      <td>Gahanna, OH</td>\n      <td>-1</td>\n    </tr>\n  </tbody>\n</table>\n<p>548 rows × 6 columns</p>\n</div>"
     },
     "execution_count": 215,
     "metadata": {},
     "output_type": "execute_result"
    }
   ],
   "source": [
    "df[df['Industry'].str.contains('-1')]"
   ],
   "metadata": {
    "collapsed": false,
    "ExecuteTime": {
     "end_time": "2023-08-01T18:50:22.128714100Z",
     "start_time": "2023-08-01T18:50:22.117750800Z"
    }
   }
  },
  {
   "cell_type": "code",
   "execution_count": 216,
   "outputs": [],
   "source": [
    "df['Industry'].replace('-1', 'Unknown', inplace= True)"
   ],
   "metadata": {
    "collapsed": false,
    "ExecuteTime": {
     "end_time": "2023-08-01T18:50:22.319097600Z",
     "start_time": "2023-08-01T18:50:22.308134400Z"
    }
   }
  },
  {
   "cell_type": "code",
   "execution_count": 217,
   "outputs": [
    {
     "data": {
      "text/plain": "                 Job Title               Salary Estimate  \\\n684          Data Engineer  $136K-$164K (Glassdoor est.)   \n838           Data Analyst    $39K-$81K (Glassdoor est.)   \n874       CSI Data Analyst   $76K-$147K (Glassdoor est.)   \n1051   Senior Data Analyst    $47K-$82K (Glassdoor est.)   \n1544  Senior Data Engineer   $97K-$111K (Glassdoor est.)   \n\n                                        Job Description  \\\n684   Company Overview:\\nAge of Learning is a leadin...   \n838   Chicago Public Schools (CPS) is the third larg...   \n874   Chicago Public Schools (CPS) is the third larg...   \n1051  Chicago Public Schools (CPS) is the third larg...   \n1544  If you’re bright, highly motivated and want to...   \n\n                     Company Name      Location        Industry  \n684          Age of Learning\\n3.3  Glendale, CA  K-12 Education  \n838   Chicago Public Schools\\n3.5   Chicago, IL  K-12 Education  \n874   Chicago Public Schools\\n3.5   Chicago, IL  K-12 Education  \n1051  Chicago Public Schools\\n3.5   Chicago, IL  K-12 Education  \n1544              StrongMind\\n3.8  Chandler, AZ  K-12 Education  ",
      "text/html": "<div>\n<style scoped>\n    .dataframe tbody tr th:only-of-type {\n        vertical-align: middle;\n    }\n\n    .dataframe tbody tr th {\n        vertical-align: top;\n    }\n\n    .dataframe thead th {\n        text-align: right;\n    }\n</style>\n<table border=\"1\" class=\"dataframe\">\n  <thead>\n    <tr style=\"text-align: right;\">\n      <th></th>\n      <th>Job Title</th>\n      <th>Salary Estimate</th>\n      <th>Job Description</th>\n      <th>Company Name</th>\n      <th>Location</th>\n      <th>Industry</th>\n    </tr>\n  </thead>\n  <tbody>\n    <tr>\n      <th>684</th>\n      <td>Data Engineer</td>\n      <td>$136K-$164K (Glassdoor est.)</td>\n      <td>Company Overview:\\nAge of Learning is a leadin...</td>\n      <td>Age of Learning\\n3.3</td>\n      <td>Glendale, CA</td>\n      <td>K-12 Education</td>\n    </tr>\n    <tr>\n      <th>838</th>\n      <td>Data Analyst</td>\n      <td>$39K-$81K (Glassdoor est.)</td>\n      <td>Chicago Public Schools (CPS) is the third larg...</td>\n      <td>Chicago Public Schools\\n3.5</td>\n      <td>Chicago, IL</td>\n      <td>K-12 Education</td>\n    </tr>\n    <tr>\n      <th>874</th>\n      <td>CSI Data Analyst</td>\n      <td>$76K-$147K (Glassdoor est.)</td>\n      <td>Chicago Public Schools (CPS) is the third larg...</td>\n      <td>Chicago Public Schools\\n3.5</td>\n      <td>Chicago, IL</td>\n      <td>K-12 Education</td>\n    </tr>\n    <tr>\n      <th>1051</th>\n      <td>Senior Data Analyst</td>\n      <td>$47K-$82K (Glassdoor est.)</td>\n      <td>Chicago Public Schools (CPS) is the third larg...</td>\n      <td>Chicago Public Schools\\n3.5</td>\n      <td>Chicago, IL</td>\n      <td>K-12 Education</td>\n    </tr>\n    <tr>\n      <th>1544</th>\n      <td>Senior Data Engineer</td>\n      <td>$97K-$111K (Glassdoor est.)</td>\n      <td>If you’re bright, highly motivated and want to...</td>\n      <td>StrongMind\\n3.8</td>\n      <td>Chandler, AZ</td>\n      <td>K-12 Education</td>\n    </tr>\n  </tbody>\n</table>\n</div>"
     },
     "execution_count": 217,
     "metadata": {},
     "output_type": "execute_result"
    }
   ],
   "source": [
    "df[df['Industry'].str.contains('-1')]"
   ],
   "metadata": {
    "collapsed": false,
    "ExecuteTime": {
     "end_time": "2023-08-01T18:50:22.667213700Z",
     "start_time": "2023-08-01T18:50:22.647262800Z"
    }
   }
  },
  {
   "cell_type": "code",
   "execution_count": 218,
   "outputs": [
    {
     "data": {
      "text/plain": "Unknown                                 543\nIT Services                             471\nStaffing & Outsourcing                  313\nBiotech & Pharmaceuticals               291\nComputer Hardware & Software            263\n                                       ... \nCommercial Equipment Rental               1\nMetals Brokers                            1\nTruck Rental & Leasing                    1\nBeauty & Personal Accessories Stores      1\nAuto Repair & Maintenance                 1\nName: Industry, Length: 96, dtype: int64"
     },
     "execution_count": 218,
     "metadata": {},
     "output_type": "execute_result"
    }
   ],
   "source": [
    "df['Industry'].value_counts()"
   ],
   "metadata": {
    "collapsed": false,
    "ExecuteTime": {
     "end_time": "2023-08-01T18:50:22.864332100Z",
     "start_time": "2023-08-01T18:50:22.830444800Z"
    }
   }
  },
  {
   "cell_type": "markdown",
   "source": [
    "# 5 - Standardise Values"
   ],
   "metadata": {
    "collapsed": false
   }
  },
  {
   "cell_type": "code",
   "execution_count": 219,
   "outputs": [
    {
     "data": {
      "text/plain": "                                              Job Title  \\\n0                                 Senior Data Scientist   \n1                     Data Scientist, Product Analytics   \n5                                        Data Scientist   \n8                                          AI Scientist   \n10                                       Data Scientist   \n...                                                 ...   \n3872      IGM - Post Doctoral Scientist - Chaudhari Lab   \n3884          Senior Research Scientist - RI IPP Cooper   \n3893   Biotransformation Scientist and DMPK Design Lead   \n3895  Senior/Principal Scientist - Display Technolog...   \n3908  Patient Safety Physician or Safety Scientist -...   \n\n                   Salary Estimate  \\\n0     $111K-$181K (Glassdoor est.)   \n1     $111K-$181K (Glassdoor est.)   \n5     $111K-$181K (Glassdoor est.)   \n8     $111K-$181K (Glassdoor est.)   \n10    $111K-$181K (Glassdoor est.)   \n...                            ...   \n3872    $39K-$86K (Glassdoor est.)   \n3884   $55K-$112K (Glassdoor est.)   \n3893   $55K-$112K (Glassdoor est.)   \n3895   $55K-$112K (Glassdoor est.)   \n3908   $55K-$112K (Glassdoor est.)   \n\n                                        Job Description  \\\n0     ABOUT HOPPER\\n\\nAt Hopper, we’re on a mission ...   \n1     At Noom, we use scientifically proven methods ...   \n5     Job Brief\\n\\nThe ideal candidate will have pre...   \n8     Paige is a software company helping pathologis...   \n10    Company Description:\\n\\nQuartet is a pioneerin...   \n...                                                 ...   \n3872  JOB POSTING - Post Doctoral Scientist IGM\\nFul...   \n3884  JOB POSTING – Senior Research Scientist – RI I...   \n3893  Help us transform patients' lives.\\n\\nAt UCB, ...   \n3895  Help us transform patients' lives.\\n\\nAt UCB, ...   \n3908  Help us transform patients' lives.\\nAt UCB, we...   \n\n                             Company Name      Location  \\\n0                             Hopper\\n3.5  New York, NY   \n1                            Noom US\\n4.5  New York, NY   \n5                      IFG Companies\\n2.9  New York, NY   \n8                              Paige\\n5.0  New York, NY   \n10                    Quartet Health\\n3.9  New York, NY   \n...                                   ...           ...   \n3872  Nationwide Children's Hospital\\n3.7  Columbus, OH   \n3884  Nationwide Children's Hospital\\n3.7  Columbus, OH   \n3893                             UCB\\n3.7    Slough, OH   \n3895                             UCB\\n3.7    Slough, OH   \n3908                             UCB\\n3.7    Slough, OH   \n\n                                     Industry  \n0                             Travel Agencies  \n1                   Health, Beauty, & Fitness  \n5                          Insurance Carriers  \n8     Enterprise Software & Network Solutions  \n10    Enterprise Software & Network Solutions  \n...                                       ...  \n3872         Health Care Services & Hospitals  \n3884         Health Care Services & Hospitals  \n3893                Biotech & Pharmaceuticals  \n3895                Biotech & Pharmaceuticals  \n3908                Biotech & Pharmaceuticals  \n\n[1746 rows x 6 columns]",
      "text/html": "<div>\n<style scoped>\n    .dataframe tbody tr th:only-of-type {\n        vertical-align: middle;\n    }\n\n    .dataframe tbody tr th {\n        vertical-align: top;\n    }\n\n    .dataframe thead th {\n        text-align: right;\n    }\n</style>\n<table border=\"1\" class=\"dataframe\">\n  <thead>\n    <tr style=\"text-align: right;\">\n      <th></th>\n      <th>Job Title</th>\n      <th>Salary Estimate</th>\n      <th>Job Description</th>\n      <th>Company Name</th>\n      <th>Location</th>\n      <th>Industry</th>\n    </tr>\n  </thead>\n  <tbody>\n    <tr>\n      <th>0</th>\n      <td>Senior Data Scientist</td>\n      <td>$111K-$181K (Glassdoor est.)</td>\n      <td>ABOUT HOPPER\\n\\nAt Hopper, we’re on a mission ...</td>\n      <td>Hopper\\n3.5</td>\n      <td>New York, NY</td>\n      <td>Travel Agencies</td>\n    </tr>\n    <tr>\n      <th>1</th>\n      <td>Data Scientist, Product Analytics</td>\n      <td>$111K-$181K (Glassdoor est.)</td>\n      <td>At Noom, we use scientifically proven methods ...</td>\n      <td>Noom US\\n4.5</td>\n      <td>New York, NY</td>\n      <td>Health, Beauty, &amp; Fitness</td>\n    </tr>\n    <tr>\n      <th>5</th>\n      <td>Data Scientist</td>\n      <td>$111K-$181K (Glassdoor est.)</td>\n      <td>Job Brief\\n\\nThe ideal candidate will have pre...</td>\n      <td>IFG Companies\\n2.9</td>\n      <td>New York, NY</td>\n      <td>Insurance Carriers</td>\n    </tr>\n    <tr>\n      <th>8</th>\n      <td>AI Scientist</td>\n      <td>$111K-$181K (Glassdoor est.)</td>\n      <td>Paige is a software company helping pathologis...</td>\n      <td>Paige\\n5.0</td>\n      <td>New York, NY</td>\n      <td>Enterprise Software &amp; Network Solutions</td>\n    </tr>\n    <tr>\n      <th>10</th>\n      <td>Data Scientist</td>\n      <td>$111K-$181K (Glassdoor est.)</td>\n      <td>Company Description:\\n\\nQuartet is a pioneerin...</td>\n      <td>Quartet Health\\n3.9</td>\n      <td>New York, NY</td>\n      <td>Enterprise Software &amp; Network Solutions</td>\n    </tr>\n    <tr>\n      <th>...</th>\n      <td>...</td>\n      <td>...</td>\n      <td>...</td>\n      <td>...</td>\n      <td>...</td>\n      <td>...</td>\n    </tr>\n    <tr>\n      <th>3872</th>\n      <td>IGM - Post Doctoral Scientist - Chaudhari Lab</td>\n      <td>$39K-$86K (Glassdoor est.)</td>\n      <td>JOB POSTING - Post Doctoral Scientist IGM\\nFul...</td>\n      <td>Nationwide Children's Hospital\\n3.7</td>\n      <td>Columbus, OH</td>\n      <td>Health Care Services &amp; Hospitals</td>\n    </tr>\n    <tr>\n      <th>3884</th>\n      <td>Senior Research Scientist - RI IPP Cooper</td>\n      <td>$55K-$112K (Glassdoor est.)</td>\n      <td>JOB POSTING – Senior Research Scientist – RI I...</td>\n      <td>Nationwide Children's Hospital\\n3.7</td>\n      <td>Columbus, OH</td>\n      <td>Health Care Services &amp; Hospitals</td>\n    </tr>\n    <tr>\n      <th>3893</th>\n      <td>Biotransformation Scientist and DMPK Design Lead</td>\n      <td>$55K-$112K (Glassdoor est.)</td>\n      <td>Help us transform patients' lives.\\n\\nAt UCB, ...</td>\n      <td>UCB\\n3.7</td>\n      <td>Slough, OH</td>\n      <td>Biotech &amp; Pharmaceuticals</td>\n    </tr>\n    <tr>\n      <th>3895</th>\n      <td>Senior/Principal Scientist - Display Technolog...</td>\n      <td>$55K-$112K (Glassdoor est.)</td>\n      <td>Help us transform patients' lives.\\n\\nAt UCB, ...</td>\n      <td>UCB\\n3.7</td>\n      <td>Slough, OH</td>\n      <td>Biotech &amp; Pharmaceuticals</td>\n    </tr>\n    <tr>\n      <th>3908</th>\n      <td>Patient Safety Physician or Safety Scientist -...</td>\n      <td>$55K-$112K (Glassdoor est.)</td>\n      <td>Help us transform patients' lives.\\nAt UCB, we...</td>\n      <td>UCB\\n3.7</td>\n      <td>Slough, OH</td>\n      <td>Biotech &amp; Pharmaceuticals</td>\n    </tr>\n  </tbody>\n</table>\n<p>1746 rows × 6 columns</p>\n</div>"
     },
     "execution_count": 219,
     "metadata": {},
     "output_type": "execute_result"
    }
   ],
   "source": [
    "df[df['Job Title'].str.contains('scientist', case = False)]"
   ],
   "metadata": {
    "collapsed": false,
    "ExecuteTime": {
     "end_time": "2023-08-01T18:50:23.608187100Z",
     "start_time": "2023-08-01T18:50:23.580219500Z"
    }
   }
  },
  {
   "cell_type": "code",
   "execution_count": 220,
   "outputs": [],
   "source": [
    "df.loc[df['Job Title'].str.contains('scientist', case = False), 'Job Title'] = 'Data Scientist'"
   ],
   "metadata": {
    "collapsed": false,
    "ExecuteTime": {
     "end_time": "2023-08-01T18:50:23.794077400Z",
     "start_time": "2023-08-01T18:50:23.774142500Z"
    }
   }
  },
  {
   "cell_type": "code",
   "execution_count": 221,
   "outputs": [
    {
     "data": {
      "text/plain": "           Job Title               Salary Estimate  \\\n0     Data Scientist  $111K-$181K (Glassdoor est.)   \n1     Data Scientist  $111K-$181K (Glassdoor est.)   \n5     Data Scientist  $111K-$181K (Glassdoor est.)   \n8     Data Scientist  $111K-$181K (Glassdoor est.)   \n10    Data Scientist  $111K-$181K (Glassdoor est.)   \n...              ...                           ...   \n3872  Data Scientist    $39K-$86K (Glassdoor est.)   \n3884  Data Scientist   $55K-$112K (Glassdoor est.)   \n3893  Data Scientist   $55K-$112K (Glassdoor est.)   \n3895  Data Scientist   $55K-$112K (Glassdoor est.)   \n3908  Data Scientist   $55K-$112K (Glassdoor est.)   \n\n                                        Job Description  \\\n0     ABOUT HOPPER\\n\\nAt Hopper, we’re on a mission ...   \n1     At Noom, we use scientifically proven methods ...   \n5     Job Brief\\n\\nThe ideal candidate will have pre...   \n8     Paige is a software company helping pathologis...   \n10    Company Description:\\n\\nQuartet is a pioneerin...   \n...                                                 ...   \n3872  JOB POSTING - Post Doctoral Scientist IGM\\nFul...   \n3884  JOB POSTING – Senior Research Scientist – RI I...   \n3893  Help us transform patients' lives.\\n\\nAt UCB, ...   \n3895  Help us transform patients' lives.\\n\\nAt UCB, ...   \n3908  Help us transform patients' lives.\\nAt UCB, we...   \n\n                             Company Name      Location  \\\n0                             Hopper\\n3.5  New York, NY   \n1                            Noom US\\n4.5  New York, NY   \n5                      IFG Companies\\n2.9  New York, NY   \n8                              Paige\\n5.0  New York, NY   \n10                    Quartet Health\\n3.9  New York, NY   \n...                                   ...           ...   \n3872  Nationwide Children's Hospital\\n3.7  Columbus, OH   \n3884  Nationwide Children's Hospital\\n3.7  Columbus, OH   \n3893                             UCB\\n3.7    Slough, OH   \n3895                             UCB\\n3.7    Slough, OH   \n3908                             UCB\\n3.7    Slough, OH   \n\n                                     Industry  \n0                             Travel Agencies  \n1                   Health, Beauty, & Fitness  \n5                          Insurance Carriers  \n8     Enterprise Software & Network Solutions  \n10    Enterprise Software & Network Solutions  \n...                                       ...  \n3872         Health Care Services & Hospitals  \n3884         Health Care Services & Hospitals  \n3893                Biotech & Pharmaceuticals  \n3895                Biotech & Pharmaceuticals  \n3908                Biotech & Pharmaceuticals  \n\n[1746 rows x 6 columns]",
      "text/html": "<div>\n<style scoped>\n    .dataframe tbody tr th:only-of-type {\n        vertical-align: middle;\n    }\n\n    .dataframe tbody tr th {\n        vertical-align: top;\n    }\n\n    .dataframe thead th {\n        text-align: right;\n    }\n</style>\n<table border=\"1\" class=\"dataframe\">\n  <thead>\n    <tr style=\"text-align: right;\">\n      <th></th>\n      <th>Job Title</th>\n      <th>Salary Estimate</th>\n      <th>Job Description</th>\n      <th>Company Name</th>\n      <th>Location</th>\n      <th>Industry</th>\n    </tr>\n  </thead>\n  <tbody>\n    <tr>\n      <th>0</th>\n      <td>Data Scientist</td>\n      <td>$111K-$181K (Glassdoor est.)</td>\n      <td>ABOUT HOPPER\\n\\nAt Hopper, we’re on a mission ...</td>\n      <td>Hopper\\n3.5</td>\n      <td>New York, NY</td>\n      <td>Travel Agencies</td>\n    </tr>\n    <tr>\n      <th>1</th>\n      <td>Data Scientist</td>\n      <td>$111K-$181K (Glassdoor est.)</td>\n      <td>At Noom, we use scientifically proven methods ...</td>\n      <td>Noom US\\n4.5</td>\n      <td>New York, NY</td>\n      <td>Health, Beauty, &amp; Fitness</td>\n    </tr>\n    <tr>\n      <th>5</th>\n      <td>Data Scientist</td>\n      <td>$111K-$181K (Glassdoor est.)</td>\n      <td>Job Brief\\n\\nThe ideal candidate will have pre...</td>\n      <td>IFG Companies\\n2.9</td>\n      <td>New York, NY</td>\n      <td>Insurance Carriers</td>\n    </tr>\n    <tr>\n      <th>8</th>\n      <td>Data Scientist</td>\n      <td>$111K-$181K (Glassdoor est.)</td>\n      <td>Paige is a software company helping pathologis...</td>\n      <td>Paige\\n5.0</td>\n      <td>New York, NY</td>\n      <td>Enterprise Software &amp; Network Solutions</td>\n    </tr>\n    <tr>\n      <th>10</th>\n      <td>Data Scientist</td>\n      <td>$111K-$181K (Glassdoor est.)</td>\n      <td>Company Description:\\n\\nQuartet is a pioneerin...</td>\n      <td>Quartet Health\\n3.9</td>\n      <td>New York, NY</td>\n      <td>Enterprise Software &amp; Network Solutions</td>\n    </tr>\n    <tr>\n      <th>...</th>\n      <td>...</td>\n      <td>...</td>\n      <td>...</td>\n      <td>...</td>\n      <td>...</td>\n      <td>...</td>\n    </tr>\n    <tr>\n      <th>3872</th>\n      <td>Data Scientist</td>\n      <td>$39K-$86K (Glassdoor est.)</td>\n      <td>JOB POSTING - Post Doctoral Scientist IGM\\nFul...</td>\n      <td>Nationwide Children's Hospital\\n3.7</td>\n      <td>Columbus, OH</td>\n      <td>Health Care Services &amp; Hospitals</td>\n    </tr>\n    <tr>\n      <th>3884</th>\n      <td>Data Scientist</td>\n      <td>$55K-$112K (Glassdoor est.)</td>\n      <td>JOB POSTING – Senior Research Scientist – RI I...</td>\n      <td>Nationwide Children's Hospital\\n3.7</td>\n      <td>Columbus, OH</td>\n      <td>Health Care Services &amp; Hospitals</td>\n    </tr>\n    <tr>\n      <th>3893</th>\n      <td>Data Scientist</td>\n      <td>$55K-$112K (Glassdoor est.)</td>\n      <td>Help us transform patients' lives.\\n\\nAt UCB, ...</td>\n      <td>UCB\\n3.7</td>\n      <td>Slough, OH</td>\n      <td>Biotech &amp; Pharmaceuticals</td>\n    </tr>\n    <tr>\n      <th>3895</th>\n      <td>Data Scientist</td>\n      <td>$55K-$112K (Glassdoor est.)</td>\n      <td>Help us transform patients' lives.\\n\\nAt UCB, ...</td>\n      <td>UCB\\n3.7</td>\n      <td>Slough, OH</td>\n      <td>Biotech &amp; Pharmaceuticals</td>\n    </tr>\n    <tr>\n      <th>3908</th>\n      <td>Data Scientist</td>\n      <td>$55K-$112K (Glassdoor est.)</td>\n      <td>Help us transform patients' lives.\\nAt UCB, we...</td>\n      <td>UCB\\n3.7</td>\n      <td>Slough, OH</td>\n      <td>Biotech &amp; Pharmaceuticals</td>\n    </tr>\n  </tbody>\n</table>\n<p>1746 rows × 6 columns</p>\n</div>"
     },
     "execution_count": 221,
     "metadata": {},
     "output_type": "execute_result"
    }
   ],
   "source": [
    "df[df['Job Title'].str.contains('scientist', case = False)]"
   ],
   "metadata": {
    "collapsed": false,
    "ExecuteTime": {
     "end_time": "2023-08-01T18:50:23.995303400Z",
     "start_time": "2023-08-01T18:50:23.968512700Z"
    }
   }
  },
  {
   "cell_type": "code",
   "execution_count": 222,
   "outputs": [],
   "source": [
    "df.loc[df['Job Title'].str.contains('analyst', case = False), 'Job Title'] = 'Data Analyst'"
   ],
   "metadata": {
    "collapsed": false,
    "ExecuteTime": {
     "end_time": "2023-08-01T18:50:24.528641500Z",
     "start_time": "2023-08-01T18:50:24.517293800Z"
    }
   }
  },
  {
   "cell_type": "code",
   "execution_count": 223,
   "outputs": [],
   "source": [
    "df.loc[df['Job Title'].str.contains('engineer', case = False), 'Job Title'] = 'Data Engineer'"
   ],
   "metadata": {
    "collapsed": false,
    "ExecuteTime": {
     "end_time": "2023-08-01T18:50:24.747497200Z",
     "start_time": "2023-08-01T18:50:24.721583900Z"
    }
   }
  },
  {
   "cell_type": "code",
   "execution_count": 224,
   "outputs": [
    {
     "data": {
      "text/plain": "Data Scientist                                        1746\nData Engineer                                          878\nData Analyst                                           874\nData Modeler                                            17\nMicrosoft Analytics Consultant                           9\n                                                      ... \nManaging Consultant - Data Science                       1\nRevenue Management and Strategic Analytics Manager       1\nHead of Data Science, Americas                           1\nData Modeler Architect                                   1\nColumbus Data Science Tutor Jobs                         1\nName: Job Title, Length: 279, dtype: int64"
     },
     "execution_count": 224,
     "metadata": {},
     "output_type": "execute_result"
    }
   ],
   "source": [
    "df['Job Title']. value_counts()"
   ],
   "metadata": {
    "collapsed": false,
    "ExecuteTime": {
     "end_time": "2023-08-01T18:50:24.932897300Z",
     "start_time": "2023-08-01T18:50:24.913960800Z"
    }
   }
  },
  {
   "cell_type": "code",
   "execution_count": 225,
   "outputs": [],
   "source": [
    "threshold = 800\n",
    "df_counts = df['Job Title']. value_counts()"
   ],
   "metadata": {
    "collapsed": false,
    "ExecuteTime": {
     "end_time": "2023-08-01T18:50:25.159079500Z",
     "start_time": "2023-08-01T18:50:25.140142700Z"
    }
   }
  },
  {
   "cell_type": "code",
   "execution_count": 226,
   "outputs": [],
   "source": [
    "df_thresdrop = df['Job Title'].isin(df_counts.index[df_counts < threshold])"
   ],
   "metadata": {
    "collapsed": false,
    "ExecuteTime": {
     "end_time": "2023-08-01T18:50:25.764778Z",
     "start_time": "2023-08-01T18:50:25.740859600Z"
    }
   }
  },
  {
   "cell_type": "code",
   "execution_count": 227,
   "outputs": [],
   "source": [
    "df = df[~df_thresdrop]"
   ],
   "metadata": {
    "collapsed": false,
    "ExecuteTime": {
     "end_time": "2023-08-01T18:50:26.036380100Z",
     "start_time": "2023-08-01T18:50:26.024420300Z"
    }
   }
  },
  {
   "cell_type": "code",
   "execution_count": 228,
   "outputs": [
    {
     "data": {
      "text/plain": "Data Scientist    1746\nData Engineer      878\nData Analyst       874\nName: Job Title, dtype: int64"
     },
     "execution_count": 228,
     "metadata": {},
     "output_type": "execute_result"
    }
   ],
   "source": [
    "df['Job Title'].value_counts()"
   ],
   "metadata": {
    "collapsed": false,
    "ExecuteTime": {
     "end_time": "2023-08-01T18:50:26.270848600Z",
     "start_time": "2023-08-01T18:50:26.252908600Z"
    }
   }
  },
  {
   "cell_type": "markdown",
   "source": [
    "# 6 - Remove a Substring"
   ],
   "metadata": {
    "collapsed": false
   }
  },
  {
   "cell_type": "code",
   "execution_count": 229,
   "outputs": [],
   "source": [
    "df[['Est Min Salary', 'Est Max Salary']] = df['Salary Estimate'].str.split('-', expand = True)"
   ],
   "metadata": {
    "collapsed": false,
    "ExecuteTime": {
     "end_time": "2023-08-01T18:50:26.935673200Z",
     "start_time": "2023-08-01T18:50:26.924709900Z"
    }
   }
  },
  {
   "cell_type": "code",
   "execution_count": 230,
   "outputs": [
    {
     "data": {
      "text/plain": "         Job Title               Salary Estimate  \\\n0   Data Scientist  $111K-$181K (Glassdoor est.)   \n1   Data Scientist  $111K-$181K (Glassdoor est.)   \n5   Data Scientist  $111K-$181K (Glassdoor est.)   \n8   Data Scientist  $111K-$181K (Glassdoor est.)   \n10  Data Scientist  $111K-$181K (Glassdoor est.)   \n\n                                      Job Description         Company Name  \\\n0   ABOUT HOPPER\\n\\nAt Hopper, we’re on a mission ...          Hopper\\n3.5   \n1   At Noom, we use scientifically proven methods ...         Noom US\\n4.5   \n5   Job Brief\\n\\nThe ideal candidate will have pre...   IFG Companies\\n2.9   \n8   Paige is a software company helping pathologis...           Paige\\n5.0   \n10  Company Description:\\n\\nQuartet is a pioneerin...  Quartet Health\\n3.9   \n\n        Location                                 Industry Est Min Salary  \\\n0   New York, NY                          Travel Agencies          $111K   \n1   New York, NY                Health, Beauty, & Fitness          $111K   \n5   New York, NY                       Insurance Carriers          $111K   \n8   New York, NY  Enterprise Software & Network Solutions          $111K   \n10  New York, NY  Enterprise Software & Network Solutions          $111K   \n\n            Est Max Salary  \n0   $181K (Glassdoor est.)  \n1   $181K (Glassdoor est.)  \n5   $181K (Glassdoor est.)  \n8   $181K (Glassdoor est.)  \n10  $181K (Glassdoor est.)  ",
      "text/html": "<div>\n<style scoped>\n    .dataframe tbody tr th:only-of-type {\n        vertical-align: middle;\n    }\n\n    .dataframe tbody tr th {\n        vertical-align: top;\n    }\n\n    .dataframe thead th {\n        text-align: right;\n    }\n</style>\n<table border=\"1\" class=\"dataframe\">\n  <thead>\n    <tr style=\"text-align: right;\">\n      <th></th>\n      <th>Job Title</th>\n      <th>Salary Estimate</th>\n      <th>Job Description</th>\n      <th>Company Name</th>\n      <th>Location</th>\n      <th>Industry</th>\n      <th>Est Min Salary</th>\n      <th>Est Max Salary</th>\n    </tr>\n  </thead>\n  <tbody>\n    <tr>\n      <th>0</th>\n      <td>Data Scientist</td>\n      <td>$111K-$181K (Glassdoor est.)</td>\n      <td>ABOUT HOPPER\\n\\nAt Hopper, we’re on a mission ...</td>\n      <td>Hopper\\n3.5</td>\n      <td>New York, NY</td>\n      <td>Travel Agencies</td>\n      <td>$111K</td>\n      <td>$181K (Glassdoor est.)</td>\n    </tr>\n    <tr>\n      <th>1</th>\n      <td>Data Scientist</td>\n      <td>$111K-$181K (Glassdoor est.)</td>\n      <td>At Noom, we use scientifically proven methods ...</td>\n      <td>Noom US\\n4.5</td>\n      <td>New York, NY</td>\n      <td>Health, Beauty, &amp; Fitness</td>\n      <td>$111K</td>\n      <td>$181K (Glassdoor est.)</td>\n    </tr>\n    <tr>\n      <th>5</th>\n      <td>Data Scientist</td>\n      <td>$111K-$181K (Glassdoor est.)</td>\n      <td>Job Brief\\n\\nThe ideal candidate will have pre...</td>\n      <td>IFG Companies\\n2.9</td>\n      <td>New York, NY</td>\n      <td>Insurance Carriers</td>\n      <td>$111K</td>\n      <td>$181K (Glassdoor est.)</td>\n    </tr>\n    <tr>\n      <th>8</th>\n      <td>Data Scientist</td>\n      <td>$111K-$181K (Glassdoor est.)</td>\n      <td>Paige is a software company helping pathologis...</td>\n      <td>Paige\\n5.0</td>\n      <td>New York, NY</td>\n      <td>Enterprise Software &amp; Network Solutions</td>\n      <td>$111K</td>\n      <td>$181K (Glassdoor est.)</td>\n    </tr>\n    <tr>\n      <th>10</th>\n      <td>Data Scientist</td>\n      <td>$111K-$181K (Glassdoor est.)</td>\n      <td>Company Description:\\n\\nQuartet is a pioneerin...</td>\n      <td>Quartet Health\\n3.9</td>\n      <td>New York, NY</td>\n      <td>Enterprise Software &amp; Network Solutions</td>\n      <td>$111K</td>\n      <td>$181K (Glassdoor est.)</td>\n    </tr>\n  </tbody>\n</table>\n</div>"
     },
     "execution_count": 230,
     "metadata": {},
     "output_type": "execute_result"
    }
   ],
   "source": [
    "df.head()"
   ],
   "metadata": {
    "collapsed": false,
    "ExecuteTime": {
     "end_time": "2023-08-01T18:50:27.274672500Z",
     "start_time": "2023-08-01T18:50:27.249755900Z"
    }
   }
  },
  {
   "cell_type": "code",
   "execution_count": 231,
   "outputs": [],
   "source": [
    "df[['Est Max Salary', 'Source']] = df['Est Max Salary'].str.split('(', expand = True)"
   ],
   "metadata": {
    "collapsed": false,
    "ExecuteTime": {
     "end_time": "2023-08-01T18:50:27.455083200Z",
     "start_time": "2023-08-01T18:50:27.447110100Z"
    }
   }
  },
  {
   "cell_type": "code",
   "execution_count": 232,
   "outputs": [
    {
     "data": {
      "text/plain": "         Job Title               Salary Estimate  \\\n0   Data Scientist  $111K-$181K (Glassdoor est.)   \n1   Data Scientist  $111K-$181K (Glassdoor est.)   \n5   Data Scientist  $111K-$181K (Glassdoor est.)   \n8   Data Scientist  $111K-$181K (Glassdoor est.)   \n10  Data Scientist  $111K-$181K (Glassdoor est.)   \n\n                                      Job Description         Company Name  \\\n0   ABOUT HOPPER\\n\\nAt Hopper, we’re on a mission ...          Hopper\\n3.5   \n1   At Noom, we use scientifically proven methods ...         Noom US\\n4.5   \n5   Job Brief\\n\\nThe ideal candidate will have pre...   IFG Companies\\n2.9   \n8   Paige is a software company helping pathologis...           Paige\\n5.0   \n10  Company Description:\\n\\nQuartet is a pioneerin...  Quartet Health\\n3.9   \n\n        Location                                 Industry Est Min Salary  \\\n0   New York, NY                          Travel Agencies          $111K   \n1   New York, NY                Health, Beauty, & Fitness          $111K   \n5   New York, NY                       Insurance Carriers          $111K   \n8   New York, NY  Enterprise Software & Network Solutions          $111K   \n10  New York, NY  Enterprise Software & Network Solutions          $111K   \n\n   Est Max Salary           Source  \n0          $181K   Glassdoor est.)  \n1          $181K   Glassdoor est.)  \n5          $181K   Glassdoor est.)  \n8          $181K   Glassdoor est.)  \n10         $181K   Glassdoor est.)  ",
      "text/html": "<div>\n<style scoped>\n    .dataframe tbody tr th:only-of-type {\n        vertical-align: middle;\n    }\n\n    .dataframe tbody tr th {\n        vertical-align: top;\n    }\n\n    .dataframe thead th {\n        text-align: right;\n    }\n</style>\n<table border=\"1\" class=\"dataframe\">\n  <thead>\n    <tr style=\"text-align: right;\">\n      <th></th>\n      <th>Job Title</th>\n      <th>Salary Estimate</th>\n      <th>Job Description</th>\n      <th>Company Name</th>\n      <th>Location</th>\n      <th>Industry</th>\n      <th>Est Min Salary</th>\n      <th>Est Max Salary</th>\n      <th>Source</th>\n    </tr>\n  </thead>\n  <tbody>\n    <tr>\n      <th>0</th>\n      <td>Data Scientist</td>\n      <td>$111K-$181K (Glassdoor est.)</td>\n      <td>ABOUT HOPPER\\n\\nAt Hopper, we’re on a mission ...</td>\n      <td>Hopper\\n3.5</td>\n      <td>New York, NY</td>\n      <td>Travel Agencies</td>\n      <td>$111K</td>\n      <td>$181K</td>\n      <td>Glassdoor est.)</td>\n    </tr>\n    <tr>\n      <th>1</th>\n      <td>Data Scientist</td>\n      <td>$111K-$181K (Glassdoor est.)</td>\n      <td>At Noom, we use scientifically proven methods ...</td>\n      <td>Noom US\\n4.5</td>\n      <td>New York, NY</td>\n      <td>Health, Beauty, &amp; Fitness</td>\n      <td>$111K</td>\n      <td>$181K</td>\n      <td>Glassdoor est.)</td>\n    </tr>\n    <tr>\n      <th>5</th>\n      <td>Data Scientist</td>\n      <td>$111K-$181K (Glassdoor est.)</td>\n      <td>Job Brief\\n\\nThe ideal candidate will have pre...</td>\n      <td>IFG Companies\\n2.9</td>\n      <td>New York, NY</td>\n      <td>Insurance Carriers</td>\n      <td>$111K</td>\n      <td>$181K</td>\n      <td>Glassdoor est.)</td>\n    </tr>\n    <tr>\n      <th>8</th>\n      <td>Data Scientist</td>\n      <td>$111K-$181K (Glassdoor est.)</td>\n      <td>Paige is a software company helping pathologis...</td>\n      <td>Paige\\n5.0</td>\n      <td>New York, NY</td>\n      <td>Enterprise Software &amp; Network Solutions</td>\n      <td>$111K</td>\n      <td>$181K</td>\n      <td>Glassdoor est.)</td>\n    </tr>\n    <tr>\n      <th>10</th>\n      <td>Data Scientist</td>\n      <td>$111K-$181K (Glassdoor est.)</td>\n      <td>Company Description:\\n\\nQuartet is a pioneerin...</td>\n      <td>Quartet Health\\n3.9</td>\n      <td>New York, NY</td>\n      <td>Enterprise Software &amp; Network Solutions</td>\n      <td>$111K</td>\n      <td>$181K</td>\n      <td>Glassdoor est.)</td>\n    </tr>\n  </tbody>\n</table>\n</div>"
     },
     "execution_count": 232,
     "metadata": {},
     "output_type": "execute_result"
    }
   ],
   "source": [
    "df.head()"
   ],
   "metadata": {
    "collapsed": false,
    "ExecuteTime": {
     "end_time": "2023-08-01T18:50:27.813243300Z",
     "start_time": "2023-08-01T18:50:27.805935300Z"
    }
   }
  },
  {
   "cell_type": "code",
   "execution_count": 233,
   "outputs": [],
   "source": [
    "replace_dict = {'\\$' : '', 'K':'000'}"
   ],
   "metadata": {
    "collapsed": false,
    "ExecuteTime": {
     "end_time": "2023-08-01T18:50:28.310579700Z",
     "start_time": "2023-08-01T18:50:28.296617600Z"
    }
   }
  },
  {
   "cell_type": "code",
   "execution_count": 234,
   "outputs": [],
   "source": [
    "df['Est Min Salary'] = df['Est Min Salary'].replace(replace_dict, regex = True)"
   ],
   "metadata": {
    "collapsed": false,
    "ExecuteTime": {
     "end_time": "2023-08-01T18:50:28.575615700Z",
     "start_time": "2023-08-01T18:50:28.552692100Z"
    }
   }
  },
  {
   "cell_type": "code",
   "execution_count": 235,
   "outputs": [
    {
     "data": {
      "text/plain": "         Job Title               Salary Estimate  \\\n0   Data Scientist  $111K-$181K (Glassdoor est.)   \n1   Data Scientist  $111K-$181K (Glassdoor est.)   \n5   Data Scientist  $111K-$181K (Glassdoor est.)   \n8   Data Scientist  $111K-$181K (Glassdoor est.)   \n10  Data Scientist  $111K-$181K (Glassdoor est.)   \n\n                                      Job Description         Company Name  \\\n0   ABOUT HOPPER\\n\\nAt Hopper, we’re on a mission ...          Hopper\\n3.5   \n1   At Noom, we use scientifically proven methods ...         Noom US\\n4.5   \n5   Job Brief\\n\\nThe ideal candidate will have pre...   IFG Companies\\n2.9   \n8   Paige is a software company helping pathologis...           Paige\\n5.0   \n10  Company Description:\\n\\nQuartet is a pioneerin...  Quartet Health\\n3.9   \n\n        Location                                 Industry Est Min Salary  \\\n0   New York, NY                          Travel Agencies         111000   \n1   New York, NY                Health, Beauty, & Fitness         111000   \n5   New York, NY                       Insurance Carriers         111000   \n8   New York, NY  Enterprise Software & Network Solutions         111000   \n10  New York, NY  Enterprise Software & Network Solutions         111000   \n\n   Est Max Salary           Source  \n0          $181K   Glassdoor est.)  \n1          $181K   Glassdoor est.)  \n5          $181K   Glassdoor est.)  \n8          $181K   Glassdoor est.)  \n10         $181K   Glassdoor est.)  ",
      "text/html": "<div>\n<style scoped>\n    .dataframe tbody tr th:only-of-type {\n        vertical-align: middle;\n    }\n\n    .dataframe tbody tr th {\n        vertical-align: top;\n    }\n\n    .dataframe thead th {\n        text-align: right;\n    }\n</style>\n<table border=\"1\" class=\"dataframe\">\n  <thead>\n    <tr style=\"text-align: right;\">\n      <th></th>\n      <th>Job Title</th>\n      <th>Salary Estimate</th>\n      <th>Job Description</th>\n      <th>Company Name</th>\n      <th>Location</th>\n      <th>Industry</th>\n      <th>Est Min Salary</th>\n      <th>Est Max Salary</th>\n      <th>Source</th>\n    </tr>\n  </thead>\n  <tbody>\n    <tr>\n      <th>0</th>\n      <td>Data Scientist</td>\n      <td>$111K-$181K (Glassdoor est.)</td>\n      <td>ABOUT HOPPER\\n\\nAt Hopper, we’re on a mission ...</td>\n      <td>Hopper\\n3.5</td>\n      <td>New York, NY</td>\n      <td>Travel Agencies</td>\n      <td>111000</td>\n      <td>$181K</td>\n      <td>Glassdoor est.)</td>\n    </tr>\n    <tr>\n      <th>1</th>\n      <td>Data Scientist</td>\n      <td>$111K-$181K (Glassdoor est.)</td>\n      <td>At Noom, we use scientifically proven methods ...</td>\n      <td>Noom US\\n4.5</td>\n      <td>New York, NY</td>\n      <td>Health, Beauty, &amp; Fitness</td>\n      <td>111000</td>\n      <td>$181K</td>\n      <td>Glassdoor est.)</td>\n    </tr>\n    <tr>\n      <th>5</th>\n      <td>Data Scientist</td>\n      <td>$111K-$181K (Glassdoor est.)</td>\n      <td>Job Brief\\n\\nThe ideal candidate will have pre...</td>\n      <td>IFG Companies\\n2.9</td>\n      <td>New York, NY</td>\n      <td>Insurance Carriers</td>\n      <td>111000</td>\n      <td>$181K</td>\n      <td>Glassdoor est.)</td>\n    </tr>\n    <tr>\n      <th>8</th>\n      <td>Data Scientist</td>\n      <td>$111K-$181K (Glassdoor est.)</td>\n      <td>Paige is a software company helping pathologis...</td>\n      <td>Paige\\n5.0</td>\n      <td>New York, NY</td>\n      <td>Enterprise Software &amp; Network Solutions</td>\n      <td>111000</td>\n      <td>$181K</td>\n      <td>Glassdoor est.)</td>\n    </tr>\n    <tr>\n      <th>10</th>\n      <td>Data Scientist</td>\n      <td>$111K-$181K (Glassdoor est.)</td>\n      <td>Company Description:\\n\\nQuartet is a pioneerin...</td>\n      <td>Quartet Health\\n3.9</td>\n      <td>New York, NY</td>\n      <td>Enterprise Software &amp; Network Solutions</td>\n      <td>111000</td>\n      <td>$181K</td>\n      <td>Glassdoor est.)</td>\n    </tr>\n  </tbody>\n</table>\n</div>"
     },
     "execution_count": 235,
     "metadata": {},
     "output_type": "execute_result"
    }
   ],
   "source": [
    "df.head()"
   ],
   "metadata": {
    "collapsed": false,
    "ExecuteTime": {
     "end_time": "2023-08-01T18:50:28.793899600Z",
     "start_time": "2023-08-01T18:50:28.779947700Z"
    }
   }
  },
  {
   "cell_type": "code",
   "execution_count": 236,
   "outputs": [],
   "source": [
    "df['Est Max Salary'] = df['Est Max Salary'].replace(replace_dict, regex = True)"
   ],
   "metadata": {
    "collapsed": false,
    "ExecuteTime": {
     "end_time": "2023-08-01T18:50:29.063058600Z",
     "start_time": "2023-08-01T18:50:29.036148700Z"
    }
   }
  },
  {
   "cell_type": "code",
   "execution_count": 237,
   "outputs": [
    {
     "data": {
      "text/plain": "         Job Title               Salary Estimate  \\\n0   Data Scientist  $111K-$181K (Glassdoor est.)   \n1   Data Scientist  $111K-$181K (Glassdoor est.)   \n5   Data Scientist  $111K-$181K (Glassdoor est.)   \n8   Data Scientist  $111K-$181K (Glassdoor est.)   \n10  Data Scientist  $111K-$181K (Glassdoor est.)   \n\n                                      Job Description         Company Name  \\\n0   ABOUT HOPPER\\n\\nAt Hopper, we’re on a mission ...          Hopper\\n3.5   \n1   At Noom, we use scientifically proven methods ...         Noom US\\n4.5   \n5   Job Brief\\n\\nThe ideal candidate will have pre...   IFG Companies\\n2.9   \n8   Paige is a software company helping pathologis...           Paige\\n5.0   \n10  Company Description:\\n\\nQuartet is a pioneerin...  Quartet Health\\n3.9   \n\n        Location                                 Industry Est Min Salary  \\\n0   New York, NY                          Travel Agencies         111000   \n1   New York, NY                Health, Beauty, & Fitness         111000   \n5   New York, NY                       Insurance Carriers         111000   \n8   New York, NY  Enterprise Software & Network Solutions         111000   \n10  New York, NY  Enterprise Software & Network Solutions         111000   \n\n   Est Max Salary           Source  \n0         181000   Glassdoor est.)  \n1         181000   Glassdoor est.)  \n5         181000   Glassdoor est.)  \n8         181000   Glassdoor est.)  \n10        181000   Glassdoor est.)  ",
      "text/html": "<div>\n<style scoped>\n    .dataframe tbody tr th:only-of-type {\n        vertical-align: middle;\n    }\n\n    .dataframe tbody tr th {\n        vertical-align: top;\n    }\n\n    .dataframe thead th {\n        text-align: right;\n    }\n</style>\n<table border=\"1\" class=\"dataframe\">\n  <thead>\n    <tr style=\"text-align: right;\">\n      <th></th>\n      <th>Job Title</th>\n      <th>Salary Estimate</th>\n      <th>Job Description</th>\n      <th>Company Name</th>\n      <th>Location</th>\n      <th>Industry</th>\n      <th>Est Min Salary</th>\n      <th>Est Max Salary</th>\n      <th>Source</th>\n    </tr>\n  </thead>\n  <tbody>\n    <tr>\n      <th>0</th>\n      <td>Data Scientist</td>\n      <td>$111K-$181K (Glassdoor est.)</td>\n      <td>ABOUT HOPPER\\n\\nAt Hopper, we’re on a mission ...</td>\n      <td>Hopper\\n3.5</td>\n      <td>New York, NY</td>\n      <td>Travel Agencies</td>\n      <td>111000</td>\n      <td>181000</td>\n      <td>Glassdoor est.)</td>\n    </tr>\n    <tr>\n      <th>1</th>\n      <td>Data Scientist</td>\n      <td>$111K-$181K (Glassdoor est.)</td>\n      <td>At Noom, we use scientifically proven methods ...</td>\n      <td>Noom US\\n4.5</td>\n      <td>New York, NY</td>\n      <td>Health, Beauty, &amp; Fitness</td>\n      <td>111000</td>\n      <td>181000</td>\n      <td>Glassdoor est.)</td>\n    </tr>\n    <tr>\n      <th>5</th>\n      <td>Data Scientist</td>\n      <td>$111K-$181K (Glassdoor est.)</td>\n      <td>Job Brief\\n\\nThe ideal candidate will have pre...</td>\n      <td>IFG Companies\\n2.9</td>\n      <td>New York, NY</td>\n      <td>Insurance Carriers</td>\n      <td>111000</td>\n      <td>181000</td>\n      <td>Glassdoor est.)</td>\n    </tr>\n    <tr>\n      <th>8</th>\n      <td>Data Scientist</td>\n      <td>$111K-$181K (Glassdoor est.)</td>\n      <td>Paige is a software company helping pathologis...</td>\n      <td>Paige\\n5.0</td>\n      <td>New York, NY</td>\n      <td>Enterprise Software &amp; Network Solutions</td>\n      <td>111000</td>\n      <td>181000</td>\n      <td>Glassdoor est.)</td>\n    </tr>\n    <tr>\n      <th>10</th>\n      <td>Data Scientist</td>\n      <td>$111K-$181K (Glassdoor est.)</td>\n      <td>Company Description:\\n\\nQuartet is a pioneerin...</td>\n      <td>Quartet Health\\n3.9</td>\n      <td>New York, NY</td>\n      <td>Enterprise Software &amp; Network Solutions</td>\n      <td>111000</td>\n      <td>181000</td>\n      <td>Glassdoor est.)</td>\n    </tr>\n  </tbody>\n</table>\n</div>"
     },
     "execution_count": 237,
     "metadata": {},
     "output_type": "execute_result"
    }
   ],
   "source": [
    "df.head()"
   ],
   "metadata": {
    "collapsed": false,
    "ExecuteTime": {
     "end_time": "2023-08-01T18:50:29.451701400Z",
     "start_time": "2023-08-01T18:50:29.424791Z"
    }
   }
  },
  {
   "cell_type": "code",
   "execution_count": 238,
   "outputs": [],
   "source": [
    "df.drop('Source', inplace=True, axis=1)"
   ],
   "metadata": {
    "collapsed": false,
    "ExecuteTime": {
     "end_time": "2023-08-01T18:50:30.158161500Z",
     "start_time": "2023-08-01T18:50:30.140222100Z"
    }
   }
  },
  {
   "cell_type": "markdown",
   "source": [
    "# 7 - Convert Datatypes"
   ],
   "metadata": {
    "collapsed": false
   }
  },
  {
   "cell_type": "code",
   "execution_count": 239,
   "outputs": [
    {
     "data": {
      "text/plain": "Job Title          object\nSalary Estimate    object\nJob Description    object\nCompany Name       object\nLocation           object\nIndustry           object\nEst Min Salary     object\nEst Max Salary     object\ndtype: object"
     },
     "execution_count": 239,
     "metadata": {},
     "output_type": "execute_result"
    }
   ],
   "source": [
    "df.dtypes"
   ],
   "metadata": {
    "collapsed": false,
    "ExecuteTime": {
     "end_time": "2023-08-01T18:50:30.799392800Z",
     "start_time": "2023-08-01T18:50:30.788007300Z"
    }
   }
  },
  {
   "cell_type": "code",
   "execution_count": 240,
   "outputs": [],
   "source": [
    "df['Est Min Salary'] = df['Est Min Salary'].astype(int)"
   ],
   "metadata": {
    "collapsed": false,
    "ExecuteTime": {
     "end_time": "2023-08-01T18:50:31.227812200Z",
     "start_time": "2023-08-01T18:50:31.205247Z"
    }
   }
  },
  {
   "cell_type": "code",
   "execution_count": 241,
   "outputs": [],
   "source": [
    "df['Est Max Salary'] = df['Est Max Salary'].astype(int)"
   ],
   "metadata": {
    "collapsed": false,
    "ExecuteTime": {
     "end_time": "2023-08-01T18:50:32.576341100Z",
     "start_time": "2023-08-01T18:50:32.553417400Z"
    }
   }
  },
  {
   "cell_type": "code",
   "execution_count": 242,
   "outputs": [
    {
     "data": {
      "text/plain": "Job Title          object\nSalary Estimate    object\nJob Description    object\nCompany Name       object\nLocation           object\nIndustry           object\nEst Min Salary      int32\nEst Max Salary      int32\ndtype: object"
     },
     "execution_count": 242,
     "metadata": {},
     "output_type": "execute_result"
    }
   ],
   "source": [
    "df.dtypes"
   ],
   "metadata": {
    "collapsed": false,
    "ExecuteTime": {
     "end_time": "2023-08-01T18:50:33.184123400Z",
     "start_time": "2023-08-01T18:50:33.163193800Z"
    }
   }
  },
  {
   "cell_type": "code",
   "execution_count": 243,
   "outputs": [],
   "source": [
    "df = df.drop('Salary Estimate', axis=1)"
   ],
   "metadata": {
    "collapsed": false,
    "ExecuteTime": {
     "end_time": "2023-08-01T18:50:33.820676300Z",
     "start_time": "2023-08-01T18:50:33.804221900Z"
    }
   }
  },
  {
   "cell_type": "markdown",
   "source": [
    "# 8 - Stripping Letters from strings"
   ],
   "metadata": {
    "collapsed": false
   }
  },
  {
   "cell_type": "code",
   "execution_count": 244,
   "outputs": [],
   "source": [
    "df['Company Name'] = df['Company Name'].str[:-4]"
   ],
   "metadata": {
    "collapsed": false,
    "ExecuteTime": {
     "end_time": "2023-08-01T18:51:37.723942300Z",
     "start_time": "2023-08-01T18:51:37.717313200Z"
    }
   }
  },
  {
   "cell_type": "code",
   "execution_count": 245,
   "outputs": [
    {
     "data": {
      "text/plain": "         Job Title                                    Job Description  \\\n0   Data Scientist  ABOUT HOPPER\\n\\nAt Hopper, we’re on a mission ...   \n1   Data Scientist  At Noom, we use scientifically proven methods ...   \n5   Data Scientist  Job Brief\\n\\nThe ideal candidate will have pre...   \n8   Data Scientist  Paige is a software company helping pathologis...   \n10  Data Scientist  Company Description:\\n\\nQuartet is a pioneerin...   \n11  Data Scientist  PulsePoint™, a global programmatic advertising...   \n12  Data Scientist  Medidata: Conquering Diseases Together\\n\\nMedi...   \n13  Data Scientist  A Career with Point72’s MI Data team\\nAt Point...   \n14  Data Scientist  Two Sigma is a different kind of investment ma...   \n15  Data Scientist  Data Scientist\\nAffinity Solutions / Marketing...   \n\n          Company Name      Location                                 Industry  \\\n0               Hopper  New York, NY                          Travel Agencies   \n1              Noom US  New York, NY                Health, Beauty, & Fitness   \n5        IFG Companies  New York, NY                       Insurance Carriers   \n8                Paige  New York, NY  Enterprise Software & Network Solutions   \n10      Quartet Health  New York, NY  Enterprise Software & Network Solutions   \n11          PulsePoint  New York, NY                                 Internet   \n12  Medidata Solutions  New York, NY  Enterprise Software & Network Solutions   \n13             Point72  New York, NY    Investment Banking & Asset Management   \n14           Two Sigma  New York, NY    Investment Banking & Asset Management   \n15  Affinity Solutions  New York, NY                  Advertising & Marketing   \n\n    Est Min Salary  Est Max Salary  \n0           111000          181000  \n1           111000          181000  \n5           111000          181000  \n8           111000          181000  \n10          111000          181000  \n11          111000          181000  \n12          111000          181000  \n13          111000          181000  \n14          111000          181000  \n15          111000          181000  ",
      "text/html": "<div>\n<style scoped>\n    .dataframe tbody tr th:only-of-type {\n        vertical-align: middle;\n    }\n\n    .dataframe tbody tr th {\n        vertical-align: top;\n    }\n\n    .dataframe thead th {\n        text-align: right;\n    }\n</style>\n<table border=\"1\" class=\"dataframe\">\n  <thead>\n    <tr style=\"text-align: right;\">\n      <th></th>\n      <th>Job Title</th>\n      <th>Job Description</th>\n      <th>Company Name</th>\n      <th>Location</th>\n      <th>Industry</th>\n      <th>Est Min Salary</th>\n      <th>Est Max Salary</th>\n    </tr>\n  </thead>\n  <tbody>\n    <tr>\n      <th>0</th>\n      <td>Data Scientist</td>\n      <td>ABOUT HOPPER\\n\\nAt Hopper, we’re on a mission ...</td>\n      <td>Hopper</td>\n      <td>New York, NY</td>\n      <td>Travel Agencies</td>\n      <td>111000</td>\n      <td>181000</td>\n    </tr>\n    <tr>\n      <th>1</th>\n      <td>Data Scientist</td>\n      <td>At Noom, we use scientifically proven methods ...</td>\n      <td>Noom US</td>\n      <td>New York, NY</td>\n      <td>Health, Beauty, &amp; Fitness</td>\n      <td>111000</td>\n      <td>181000</td>\n    </tr>\n    <tr>\n      <th>5</th>\n      <td>Data Scientist</td>\n      <td>Job Brief\\n\\nThe ideal candidate will have pre...</td>\n      <td>IFG Companies</td>\n      <td>New York, NY</td>\n      <td>Insurance Carriers</td>\n      <td>111000</td>\n      <td>181000</td>\n    </tr>\n    <tr>\n      <th>8</th>\n      <td>Data Scientist</td>\n      <td>Paige is a software company helping pathologis...</td>\n      <td>Paige</td>\n      <td>New York, NY</td>\n      <td>Enterprise Software &amp; Network Solutions</td>\n      <td>111000</td>\n      <td>181000</td>\n    </tr>\n    <tr>\n      <th>10</th>\n      <td>Data Scientist</td>\n      <td>Company Description:\\n\\nQuartet is a pioneerin...</td>\n      <td>Quartet Health</td>\n      <td>New York, NY</td>\n      <td>Enterprise Software &amp; Network Solutions</td>\n      <td>111000</td>\n      <td>181000</td>\n    </tr>\n    <tr>\n      <th>11</th>\n      <td>Data Scientist</td>\n      <td>PulsePoint™, a global programmatic advertising...</td>\n      <td>PulsePoint</td>\n      <td>New York, NY</td>\n      <td>Internet</td>\n      <td>111000</td>\n      <td>181000</td>\n    </tr>\n    <tr>\n      <th>12</th>\n      <td>Data Scientist</td>\n      <td>Medidata: Conquering Diseases Together\\n\\nMedi...</td>\n      <td>Medidata Solutions</td>\n      <td>New York, NY</td>\n      <td>Enterprise Software &amp; Network Solutions</td>\n      <td>111000</td>\n      <td>181000</td>\n    </tr>\n    <tr>\n      <th>13</th>\n      <td>Data Scientist</td>\n      <td>A Career with Point72’s MI Data team\\nAt Point...</td>\n      <td>Point72</td>\n      <td>New York, NY</td>\n      <td>Investment Banking &amp; Asset Management</td>\n      <td>111000</td>\n      <td>181000</td>\n    </tr>\n    <tr>\n      <th>14</th>\n      <td>Data Scientist</td>\n      <td>Two Sigma is a different kind of investment ma...</td>\n      <td>Two Sigma</td>\n      <td>New York, NY</td>\n      <td>Investment Banking &amp; Asset Management</td>\n      <td>111000</td>\n      <td>181000</td>\n    </tr>\n    <tr>\n      <th>15</th>\n      <td>Data Scientist</td>\n      <td>Data Scientist\\nAffinity Solutions / Marketing...</td>\n      <td>Affinity Solutions</td>\n      <td>New York, NY</td>\n      <td>Advertising &amp; Marketing</td>\n      <td>111000</td>\n      <td>181000</td>\n    </tr>\n  </tbody>\n</table>\n</div>"
     },
     "execution_count": 245,
     "metadata": {},
     "output_type": "execute_result"
    }
   ],
   "source": [
    "df.head(10)"
   ],
   "metadata": {
    "collapsed": false,
    "ExecuteTime": {
     "end_time": "2023-08-01T18:51:41.190987500Z",
     "start_time": "2023-08-01T18:51:41.170378300Z"
    }
   }
  },
  {
   "cell_type": "markdown",
   "source": [
    "# Mine Job Description"
   ],
   "metadata": {
    "collapsed": false
   }
  },
  {
   "cell_type": "code",
   "execution_count": 246,
   "outputs": [],
   "source": [
    "skill_set = ['sql','python', 'power bi', 'tableau', 'excel', ' r ']"
   ],
   "metadata": {
    "collapsed": false,
    "ExecuteTime": {
     "end_time": "2023-08-01T18:54:41.775406400Z",
     "start_time": "2023-08-01T18:54:41.757410500Z"
    }
   }
  },
  {
   "cell_type": "code",
   "execution_count": 247,
   "outputs": [
    {
     "name": "stdout",
     "output_type": "stream",
     "text": [
      "Number of jobs that require sql  :  581\n",
      "Number of jobs that require python  :  266\n",
      "Number of jobs that require power bi  :  98\n",
      "Number of jobs that require tableau  :  275\n",
      "Number of jobs that require excel  :  533\n",
      "Number of jobs that require  r   :  63\n"
     ]
    }
   ],
   "source": [
    "for skills in skill_set:\n",
    "    print('Number of jobs that require', skills, ' : ' , len(df[(df['Job Description'].str.contains(skills, case = False)) & (df['Job Title']=='Data Analyst')]))"
   ],
   "metadata": {
    "collapsed": false,
    "ExecuteTime": {
     "end_time": "2023-08-01T18:56:50.084458600Z",
     "start_time": "2023-08-01T18:56:49.766296500Z"
    }
   }
  },
  {
   "cell_type": "code",
   "execution_count": 248,
   "outputs": [
    {
     "name": "stdout",
     "output_type": "stream",
     "text": [
      "Number of jobs that require sql  :  641\n",
      "Number of jobs that require python  :  980\n",
      "Number of jobs that require power bi  :  40\n",
      "Number of jobs that require tableau  :  192\n",
      "Number of jobs that require excel  :  829\n",
      "Number of jobs that require  r   :  168\n"
     ]
    }
   ],
   "source": [
    "for skills in skill_set:\n",
    "    print('Number of jobs that require', skills, ' : ' , len(df[(df['Job Description'].str.contains(skills, case = False)) & (df['Job Title']=='Data Scientist')]))"
   ],
   "metadata": {
    "collapsed": false,
    "ExecuteTime": {
     "end_time": "2023-08-01T18:57:05.003171100Z",
     "start_time": "2023-08-01T18:57:04.613465100Z"
    }
   }
  },
  {
   "cell_type": "code",
   "execution_count": 249,
   "outputs": [
    {
     "name": "stdout",
     "output_type": "stream",
     "text": [
      "Number of jobs that require sql  :  591\n",
      "Number of jobs that require python  :  635\n",
      "Number of jobs that require power bi  :  47\n",
      "Number of jobs that require tableau  :  133\n",
      "Number of jobs that require excel  :  294\n",
      "Number of jobs that require  r   :  44\n"
     ]
    }
   ],
   "source": [
    "for skills in skill_set:\n",
    "    print('Number of jobs that require', skills, ' : ' , len(df[(df['Job Description'].str.contains(skills, case = False)) & (df['Job Title']=='Data Engineer')]))"
   ],
   "metadata": {
    "collapsed": false,
    "ExecuteTime": {
     "end_time": "2023-08-01T18:57:17.670664200Z",
     "start_time": "2023-08-01T18:57:17.339594300Z"
    }
   }
  },
  {
   "cell_type": "code",
   "execution_count": null,
   "outputs": [],
   "source": [],
   "metadata": {
    "collapsed": false
   }
  }
 ],
 "metadata": {
  "kernelspec": {
   "display_name": "Python 3",
   "language": "python",
   "name": "python3"
  },
  "language_info": {
   "codemirror_mode": {
    "name": "ipython",
    "version": 2
   },
   "file_extension": ".py",
   "mimetype": "text/x-python",
   "name": "python",
   "nbconvert_exporter": "python",
   "pygments_lexer": "ipython2",
   "version": "2.7.6"
  }
 },
 "nbformat": 4,
 "nbformat_minor": 0
}
